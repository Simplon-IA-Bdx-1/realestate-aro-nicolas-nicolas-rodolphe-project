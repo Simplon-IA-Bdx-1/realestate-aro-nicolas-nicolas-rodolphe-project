{
 "cells": [
  {
   "cell_type": "code",
   "execution_count": 1,
   "metadata": {},
   "outputs": [
    {
     "data": {
      "application/javascript": [
       "IPython.notebook.set_autosave_interval(0)"
      ]
     },
     "metadata": {},
     "output_type": "display_data"
    },
    {
     "name": "stdout",
     "output_type": "stream",
     "text": [
      "Autosave disabled\n"
     ]
    }
   ],
   "source": [
    "%autosave 0\n",
    "import pandas as pd\n",
    "import numpy as np\n",
    "\n",
    "import matplotlib.pyplot as plt\n",
    "import seaborn as sns\n",
    "\n",
    "from sklearn.preprocessing import OneHotEncoder, PolynomialFeatures, StandardScaler\n",
    "from sklearn.model_selection import train_test_split, GridSearchCV\n",
    "\n",
    "from sklearn.pipeline import Pipeline\n",
    "from sklearn.compose import ColumnTransformer\n",
    "\n",
    "from sklearn.metrics import mean_squared_error as MSE\n",
    "from sklearn.metrics import mean_absolute_error as MAE\n",
    "import statistics\n",
    "\n",
    "import xgboost\n",
    "\n",
    "from alys import regression as ALYR\n",
    "from joblib import dump\n",
    "\n",
    "import warnings\n",
    "warnings.filterwarnings(\"ignore\") "
   ]
  },
  {
   "cell_type": "markdown",
   "metadata": {},
   "source": [
    "# Contexte"
   ]
  },
  {
   "cell_type": "code",
   "execution_count": 2,
   "metadata": {},
   "outputs": [],
   "source": [
    "mod_full = False # Active le fichier de scrap si on passe sur True = le fichier de scrap + celui traité par Aro sur gouv\n",
    "look_for_opti = False # Active gridsearch"
   ]
  },
  {
   "cell_type": "code",
   "execution_count": 3,
   "metadata": {},
   "outputs": [],
   "source": [
    "if mod_full:\n",
    "    df = pd.read_csv('Base_Files/house_full.csv', index_col =0)\n",
    "else :    \n",
    "    df = pd.read_csv('Base_Files/house_ligth.csv', index_col =0)"
   ]
  },
  {
   "cell_type": "markdown",
   "metadata": {},
   "source": [
    "# Visualisation des données"
   ]
  },
  {
   "cell_type": "code",
   "execution_count": 4,
   "metadata": {},
   "outputs": [
    {
     "name": "stdout",
     "output_type": "stream",
     "text": [
      "<class 'pandas.core.frame.DataFrame'>\n",
      "Int64Index: 3505 entries, 0 to 3504\n",
      "Data columns (total 7 columns):\n",
      "id              3505 non-null int64\n",
      "type_de_bien    3505 non-null object\n",
      "année           1687 non-null float64\n",
      "nb_de_pieces    3505 non-null int64\n",
      "surface         3505 non-null int64\n",
      "ville           3505 non-null object\n",
      "prix            3505 non-null int64\n",
      "dtypes: float64(1), int64(4), object(2)\n",
      "memory usage: 219.1+ KB\n"
     ]
    }
   ],
   "source": [
    "df.info()"
   ]
  },
  {
   "cell_type": "code",
   "execution_count": 5,
   "metadata": {},
   "outputs": [
    {
     "data": {
      "text/html": [
       "<div>\n",
       "<style scoped>\n",
       "    .dataframe tbody tr th:only-of-type {\n",
       "        vertical-align: middle;\n",
       "    }\n",
       "\n",
       "    .dataframe tbody tr th {\n",
       "        vertical-align: top;\n",
       "    }\n",
       "\n",
       "    .dataframe thead th {\n",
       "        text-align: right;\n",
       "    }\n",
       "</style>\n",
       "<table border=\"1\" class=\"dataframe\">\n",
       "  <thead>\n",
       "    <tr style=\"text-align: right;\">\n",
       "      <th></th>\n",
       "      <th>Total</th>\n",
       "      <th>Null_Count</th>\n",
       "      <th>Percent</th>\n",
       "    </tr>\n",
       "  </thead>\n",
       "  <tbody>\n",
       "    <tr>\n",
       "      <td>année</td>\n",
       "      <td>3505</td>\n",
       "      <td>1818</td>\n",
       "      <td>51.87</td>\n",
       "    </tr>\n",
       "  </tbody>\n",
       "</table>\n",
       "</div>"
      ],
      "text/plain": [
       "       Total  Null_Count  Percent\n",
       "année   3505        1818    51.87"
      ]
     },
     "execution_count": 5,
     "metadata": {},
     "output_type": "execute_result"
    }
   ],
   "source": [
    "def null_values(df):\n",
    "    \n",
    "    sum_null = df.isnull().sum()\n",
    "    total = df.isnull().count()\n",
    "    percent_nullvalues = 100* sum_null / total \n",
    "    df_null = pd.DataFrame()\n",
    "    df_null['Total'] = total\n",
    "    df_null['Null_Count'] = sum_null\n",
    "    df_null['Percent'] = round(percent_nullvalues,2)\n",
    "    df_null = df_null.sort_values(by='Null_Count',ascending = False)\n",
    "    df_null = df_null[df_null.Null_Count > 0]\n",
    "    \n",
    "    return(df_null)\n",
    "\n",
    "null_values(df)"
   ]
  },
  {
   "cell_type": "code",
   "execution_count": 6,
   "metadata": {},
   "outputs": [],
   "source": [
    "df = df.drop(['id','année'], axis=1)"
   ]
  },
  {
   "cell_type": "code",
   "execution_count": 7,
   "metadata": {},
   "outputs": [],
   "source": [
    "df['ville'] = df['ville'].str.strip() #Correction du premier charactère == \" \"."
   ]
  },
  {
   "cell_type": "code",
   "execution_count": 8,
   "metadata": {},
   "outputs": [
    {
     "data": {
      "text/plain": [
       "<matplotlib.axes._subplots.AxesSubplot at 0x7fd20ab3e7f0>"
      ]
     },
     "execution_count": 8,
     "metadata": {},
     "output_type": "execute_result"
    },
    {
     "data": {
      "image/png": "[encoded data removed]",
      "text/plain": [
       "<Figure size 432x288 with 1 Axes>"
      ]
     },
     "metadata": {},
     "output_type": "display_data"
    }
   ],
   "source": [
    "sns.set(style=\"dark\", palette=\"muted\", font='DejaVu Sans', font_scale=1, color_codes=True)\n",
    "sns.scatterplot(x=\"surface\", y=\"prix\", hue=\"type_de_bien\", data=df)"
   ]
  },
  {
   "cell_type": "code",
   "execution_count": 9,
   "metadata": {},
   "outputs": [
    {
     "data": {
      "text/plain": [
       "<matplotlib.axes._subplots.AxesSubplot at 0x7fd20a1c1f98>"
      ]
     },
     "execution_count": 9,
     "metadata": {},
     "output_type": "execute_result"
    },
    {
     "data": {
      "image/png": "[encoded data removed]",
      "text/plain": [
       "<Figure size 432x288 with 1 Axes>"
      ]
     },
     "metadata": {},
     "output_type": "display_data"
    }
   ],
   "source": [
    "sns.set(style=\"dark\", palette=\"muted\", font='DejaVu Sans', font_scale=1, color_codes=True)\n",
    "sns.scatterplot(x=\"nb_de_pieces\", y=\"prix\", hue=\"type_de_bien\", data=df)"
   ]
  },
  {
   "cell_type": "code",
   "execution_count": 10,
   "metadata": {},
   "outputs": [
    {
     "data": {
      "text/plain": [
       "<seaborn.axisgrid.FacetGrid at 0x7fd22cccaa58>"
      ]
     },
     "execution_count": 10,
     "metadata": {},
     "output_type": "execute_result"
    },
    {
     "data": {
      "image/png": "[encoded data removed]",
      "text/plain": [
       "<Figure size 360x360 with 1 Axes>"
      ]
     },
     "metadata": {},
     "output_type": "display_data"
    }
   ],
   "source": [
    "sns.catplot(x='type_de_bien',y='prix',data=df ,hue='type_de_bien')"
   ]
  },
  {
   "cell_type": "code",
   "execution_count": 11,
   "metadata": {},
   "outputs": [
    {
     "data": {
      "text/plain": [
       "<matplotlib.axes._subplots.AxesSubplot at 0x7fd2069da128>"
      ]
     },
     "execution_count": 11,
     "metadata": {},
     "output_type": "execute_result"
    },
    {
     "data": {
      "image/png": "[encoded data removed]",
      "text/plain": [
       "<Figure size 360x360 with 1 Axes>"
      ]
     },
     "metadata": {},
     "output_type": "display_data"
    }
   ],
   "source": [
    "df['type_de_bien'].value_counts().head(2).plot(kind='barh', figsize=(5,5))"
   ]
  },
  {
   "cell_type": "code",
   "execution_count": 12,
   "metadata": {},
   "outputs": [
    {
     "data": {
      "text/plain": [
       "<matplotlib.axes._subplots.AxesSubplot at 0x7fd2069ae080>"
      ]
     },
     "execution_count": 12,
     "metadata": {},
     "output_type": "execute_result"
    },
    {
     "data": {
      "image/png": "[encoded data removed]",
      "text/plain": [
       "<Figure size 720x1440 with 1 Axes>"
      ]
     },
     "metadata": {},
     "output_type": "display_data"
    }
   ],
   "source": [
    "df['ville'].value_counts().head(50).plot(kind='barh', figsize=(10,20))"
   ]
  },
  {
   "cell_type": "markdown",
   "metadata": {},
   "source": [
    "# Features engineering"
   ]
  },
  {
   "cell_type": "code",
   "execution_count": 13,
   "metadata": {},
   "outputs": [],
   "source": [
    "# sclol = df[df['ville'].isin([\"LIBOURNE\"])]"
   ]
  },
  {
   "cell_type": "code",
   "execution_count": 14,
   "metadata": {
    "scrolled": true
   },
   "outputs": [],
   "source": [
    "# x = df.groupby('ville').agg(['count'])\n",
    "\n",
    "# count=0\n",
    "# vill_mal_rep = []\n",
    "\n",
    "# for ele in x['prix', 'count'] :\n",
    "#     if ele < 3 :\n",
    "#         vill_mal_rep.append(x.index[count])\n",
    "#     count += 1 \n",
    "    \n",
    "# # Liste des villes représentées 1 ou 2 fois dans le df     \n",
    "# vill_mal_rep"
   ]
  },
  {
   "cell_type": "code",
   "execution_count": 15,
   "metadata": {},
   "outputs": [],
   "source": [
    "count = 0\n",
    "for i in df[\"ville\"]:\n",
    "    df.loc[count,\"p_m2\"] = df.loc[count,\"prix\"]/df.loc[count,\"surface\"]\n",
    "    count +=1"
   ]
  },
  {
   "cell_type": "code",
   "execution_count": 16,
   "metadata": {},
   "outputs": [],
   "source": [
    "# count = 0\n",
    "# for vi in df[\"ville\"]:\n",
    "#     scbuild = df[df['ville'].isin([f\"{vi}\"])]\n",
    "#     k_5 = statistics.mean(scbuild[\"p_m2\"])\n",
    "#     Q1 = min(scbuild[\"p_m2\"])\n",
    "#     df.loc[count,\"Q1_pm2\"] = Q1\n",
    "#     df.loc[count,\"Q2_pm2\"] = ((k_5+Q1)/2)\n",
    "#     df.loc[count,\"Q3_pm2\"] = k_5\n",
    "#     Q5 =  max(scbuild[\"p_m2\"])\n",
    "#     df.loc[count,\"Q5_pm2\"] = Q5\n",
    "#     df.loc[count,\"Q4_pm2\"] = ((k_5+Q5)/2)\n",
    "#     count +=1"
   ]
  },
  {
   "cell_type": "markdown",
   "metadata": {},
   "source": [
    "# Suppression des outliers"
   ]
  },
  {
   "cell_type": "markdown",
   "metadata": {},
   "source": [
    "A l'aide des visualisations, je fais le lien avec les index a drop"
   ]
  },
  {
   "cell_type": "code",
   "execution_count": 17,
   "metadata": {},
   "outputs": [
    {
     "data": {
      "text/html": [
       "<div>\n",
       "<style scoped>\n",
       "    .dataframe tbody tr th:only-of-type {\n",
       "        vertical-align: middle;\n",
       "    }\n",
       "\n",
       "    .dataframe tbody tr th {\n",
       "        vertical-align: top;\n",
       "    }\n",
       "\n",
       "    .dataframe thead th {\n",
       "        text-align: right;\n",
       "    }\n",
       "</style>\n",
       "<table border=\"1\" class=\"dataframe\">\n",
       "  <thead>\n",
       "    <tr style=\"text-align: right;\">\n",
       "      <th></th>\n",
       "      <th>type_de_bien</th>\n",
       "      <th>nb_de_pieces</th>\n",
       "      <th>surface</th>\n",
       "      <th>ville</th>\n",
       "      <th>prix</th>\n",
       "      <th>p_m2</th>\n",
       "    </tr>\n",
       "  </thead>\n",
       "  <tbody>\n",
       "    <tr>\n",
       "      <td>2842</td>\n",
       "      <td>maison</td>\n",
       "      <td>16</td>\n",
       "      <td>500</td>\n",
       "      <td>BORDEAUX</td>\n",
       "      <td>8925000</td>\n",
       "      <td>17850.000000</td>\n",
       "    </tr>\n",
       "    <tr>\n",
       "      <td>3167</td>\n",
       "      <td>maison</td>\n",
       "      <td>15</td>\n",
       "      <td>1830</td>\n",
       "      <td>BORDEAUX</td>\n",
       "      <td>8900000</td>\n",
       "      <td>4863.387978</td>\n",
       "    </tr>\n",
       "    <tr>\n",
       "      <td>3024</td>\n",
       "      <td>maison</td>\n",
       "      <td>5</td>\n",
       "      <td>700</td>\n",
       "      <td>ARCACHON</td>\n",
       "      <td>5956500</td>\n",
       "      <td>8509.285714</td>\n",
       "    </tr>\n",
       "    <tr>\n",
       "      <td>1215</td>\n",
       "      <td>maison</td>\n",
       "      <td>9</td>\n",
       "      <td>700</td>\n",
       "      <td>ARCACHON</td>\n",
       "      <td>5950000</td>\n",
       "      <td>8500.000000</td>\n",
       "    </tr>\n",
       "    <tr>\n",
       "      <td>2070</td>\n",
       "      <td>maison</td>\n",
       "      <td>15</td>\n",
       "      <td>650</td>\n",
       "      <td>ARCACHON</td>\n",
       "      <td>5950000</td>\n",
       "      <td>9153.846154</td>\n",
       "    </tr>\n",
       "    <tr>\n",
       "      <td>3285</td>\n",
       "      <td>maison</td>\n",
       "      <td>12</td>\n",
       "      <td>400</td>\n",
       "      <td>BORDEAUX</td>\n",
       "      <td>3780000</td>\n",
       "      <td>9450.000000</td>\n",
       "    </tr>\n",
       "    <tr>\n",
       "      <td>2579</td>\n",
       "      <td>maison</td>\n",
       "      <td>9</td>\n",
       "      <td>650</td>\n",
       "      <td>BORDEAUX</td>\n",
       "      <td>3360000</td>\n",
       "      <td>5169.230769</td>\n",
       "    </tr>\n",
       "    <tr>\n",
       "      <td>344</td>\n",
       "      <td>maison</td>\n",
       "      <td>12</td>\n",
       "      <td>340</td>\n",
       "      <td>ARCACHON</td>\n",
       "      <td>3280000</td>\n",
       "      <td>9647.058824</td>\n",
       "    </tr>\n",
       "    <tr>\n",
       "      <td>3159</td>\n",
       "      <td>maison</td>\n",
       "      <td>7</td>\n",
       "      <td>389</td>\n",
       "      <td>ARCACHON</td>\n",
       "      <td>3065000</td>\n",
       "      <td>7879.177378</td>\n",
       "    </tr>\n",
       "    <tr>\n",
       "      <td>1761</td>\n",
       "      <td>maison</td>\n",
       "      <td>11</td>\n",
       "      <td>520</td>\n",
       "      <td>LE BOUSCAT</td>\n",
       "      <td>2987000</td>\n",
       "      <td>5744.230769</td>\n",
       "    </tr>\n",
       "  </tbody>\n",
       "</table>\n",
       "</div>"
      ],
      "text/plain": [
       "     type_de_bien  nb_de_pieces  surface       ville     prix          p_m2\n",
       "2842       maison            16      500    BORDEAUX  8925000  17850.000000\n",
       "3167       maison            15     1830    BORDEAUX  8900000   4863.387978\n",
       "3024       maison             5      700    ARCACHON  5956500   8509.285714\n",
       "1215       maison             9      700    ARCACHON  5950000   8500.000000\n",
       "2070       maison            15      650    ARCACHON  5950000   9153.846154\n",
       "3285       maison            12      400    BORDEAUX  3780000   9450.000000\n",
       "2579       maison             9      650    BORDEAUX  3360000   5169.230769\n",
       "344        maison            12      340    ARCACHON  3280000   9647.058824\n",
       "3159       maison             7      389    ARCACHON  3065000   7879.177378\n",
       "1761       maison            11      520  LE BOUSCAT  2987000   5744.230769"
      ]
     },
     "execution_count": 17,
     "metadata": {},
     "output_type": "execute_result"
    }
   ],
   "source": [
    "df.sort_values(\"prix\", axis = 0, ascending = False).head(10)"
   ]
  },
  {
   "cell_type": "code",
   "execution_count": 18,
   "metadata": {},
   "outputs": [
    {
     "data": {
      "text/html": [
       "<div>\n",
       "<style scoped>\n",
       "    .dataframe tbody tr th:only-of-type {\n",
       "        vertical-align: middle;\n",
       "    }\n",
       "\n",
       "    .dataframe tbody tr th {\n",
       "        vertical-align: top;\n",
       "    }\n",
       "\n",
       "    .dataframe thead th {\n",
       "        text-align: right;\n",
       "    }\n",
       "</style>\n",
       "<table border=\"1\" class=\"dataframe\">\n",
       "  <thead>\n",
       "    <tr style=\"text-align: right;\">\n",
       "      <th></th>\n",
       "      <th>type_de_bien</th>\n",
       "      <th>nb_de_pieces</th>\n",
       "      <th>surface</th>\n",
       "      <th>ville</th>\n",
       "      <th>prix</th>\n",
       "      <th>p_m2</th>\n",
       "    </tr>\n",
       "  </thead>\n",
       "  <tbody>\n",
       "    <tr>\n",
       "      <td>1320</td>\n",
       "      <td>maison</td>\n",
       "      <td>5</td>\n",
       "      <td>115</td>\n",
       "      <td>ANDERNOS LES BAINS</td>\n",
       "      <td>2100000</td>\n",
       "      <td>18260.869565</td>\n",
       "    </tr>\n",
       "    <tr>\n",
       "      <td>2842</td>\n",
       "      <td>maison</td>\n",
       "      <td>16</td>\n",
       "      <td>500</td>\n",
       "      <td>BORDEAUX</td>\n",
       "      <td>8925000</td>\n",
       "      <td>17850.000000</td>\n",
       "    </tr>\n",
       "    <tr>\n",
       "      <td>3187</td>\n",
       "      <td>maison</td>\n",
       "      <td>4</td>\n",
       "      <td>85</td>\n",
       "      <td>LEGE CAP FERRET</td>\n",
       "      <td>1294710</td>\n",
       "      <td>15231.882353</td>\n",
       "    </tr>\n",
       "    <tr>\n",
       "      <td>2972</td>\n",
       "      <td>maison</td>\n",
       "      <td>6</td>\n",
       "      <td>170</td>\n",
       "      <td>CAP FERRET</td>\n",
       "      <td>2520000</td>\n",
       "      <td>14823.529412</td>\n",
       "    </tr>\n",
       "    <tr>\n",
       "      <td>537</td>\n",
       "      <td>maison</td>\n",
       "      <td>5</td>\n",
       "      <td>160</td>\n",
       "      <td>ARCACHON</td>\n",
       "      <td>2205000</td>\n",
       "      <td>13781.250000</td>\n",
       "    </tr>\n",
       "    <tr>\n",
       "      <td>2368</td>\n",
       "      <td>maison</td>\n",
       "      <td>3</td>\n",
       "      <td>85</td>\n",
       "      <td>LEGE CAP FERRET</td>\n",
       "      <td>1152250</td>\n",
       "      <td>13555.882353</td>\n",
       "    </tr>\n",
       "    <tr>\n",
       "      <td>1523</td>\n",
       "      <td>appartement</td>\n",
       "      <td>2</td>\n",
       "      <td>28</td>\n",
       "      <td>ARCACHON</td>\n",
       "      <td>368000</td>\n",
       "      <td>13142.857143</td>\n",
       "    </tr>\n",
       "    <tr>\n",
       "      <td>36</td>\n",
       "      <td>appartement</td>\n",
       "      <td>2</td>\n",
       "      <td>40</td>\n",
       "      <td>ARCACHON</td>\n",
       "      <td>525000</td>\n",
       "      <td>13125.000000</td>\n",
       "    </tr>\n",
       "    <tr>\n",
       "      <td>1781</td>\n",
       "      <td>appartement</td>\n",
       "      <td>3</td>\n",
       "      <td>71</td>\n",
       "      <td>ARCACHON</td>\n",
       "      <td>892500</td>\n",
       "      <td>12570.422535</td>\n",
       "    </tr>\n",
       "    <tr>\n",
       "      <td>1263</td>\n",
       "      <td>appartement</td>\n",
       "      <td>2</td>\n",
       "      <td>45</td>\n",
       "      <td>ARCACHON</td>\n",
       "      <td>565000</td>\n",
       "      <td>12555.555556</td>\n",
       "    </tr>\n",
       "  </tbody>\n",
       "</table>\n",
       "</div>"
      ],
      "text/plain": [
       "     type_de_bien  nb_de_pieces  surface               ville     prix  \\\n",
       "1320       maison             5      115  ANDERNOS LES BAINS  2100000   \n",
       "2842       maison            16      500            BORDEAUX  8925000   \n",
       "3187       maison             4       85     LEGE CAP FERRET  1294710   \n",
       "2972       maison             6      170          CAP FERRET  2520000   \n",
       "537        maison             5      160            ARCACHON  2205000   \n",
       "2368       maison             3       85     LEGE CAP FERRET  1152250   \n",
       "1523  appartement             2       28            ARCACHON   368000   \n",
       "36    appartement             2       40            ARCACHON   525000   \n",
       "1781  appartement             3       71            ARCACHON   892500   \n",
       "1263  appartement             2       45            ARCACHON   565000   \n",
       "\n",
       "              p_m2  \n",
       "1320  18260.869565  \n",
       "2842  17850.000000  \n",
       "3187  15231.882353  \n",
       "2972  14823.529412  \n",
       "537   13781.250000  \n",
       "2368  13555.882353  \n",
       "1523  13142.857143  \n",
       "36    13125.000000  \n",
       "1781  12570.422535  \n",
       "1263  12555.555556  "
      ]
     },
     "execution_count": 18,
     "metadata": {},
     "output_type": "execute_result"
    }
   ],
   "source": [
    "df.sort_values(\"p_m2\", axis = 0, ascending = False).head(10)"
   ]
  },
  {
   "cell_type": "code",
   "execution_count": 19,
   "metadata": {},
   "outputs": [
    {
     "data": {
      "text/html": [
       "<div>\n",
       "<style scoped>\n",
       "    .dataframe tbody tr th:only-of-type {\n",
       "        vertical-align: middle;\n",
       "    }\n",
       "\n",
       "    .dataframe tbody tr th {\n",
       "        vertical-align: top;\n",
       "    }\n",
       "\n",
       "    .dataframe thead th {\n",
       "        text-align: right;\n",
       "    }\n",
       "</style>\n",
       "<table border=\"1\" class=\"dataframe\">\n",
       "  <thead>\n",
       "    <tr style=\"text-align: right;\">\n",
       "      <th></th>\n",
       "      <th>type_de_bien</th>\n",
       "      <th>nb_de_pieces</th>\n",
       "      <th>surface</th>\n",
       "      <th>ville</th>\n",
       "      <th>prix</th>\n",
       "      <th>p_m2</th>\n",
       "    </tr>\n",
       "  </thead>\n",
       "  <tbody>\n",
       "    <tr>\n",
       "      <td>3167</td>\n",
       "      <td>maison</td>\n",
       "      <td>15</td>\n",
       "      <td>1830</td>\n",
       "      <td>BORDEAUX</td>\n",
       "      <td>8900000</td>\n",
       "      <td>4863.387978</td>\n",
       "    </tr>\n",
       "    <tr>\n",
       "      <td>1956</td>\n",
       "      <td>maison</td>\n",
       "      <td>8</td>\n",
       "      <td>1634</td>\n",
       "      <td>SALLES</td>\n",
       "      <td>987000</td>\n",
       "      <td>604.039168</td>\n",
       "    </tr>\n",
       "    <tr>\n",
       "      <td>3277</td>\n",
       "      <td>maison</td>\n",
       "      <td>20</td>\n",
       "      <td>1300</td>\n",
       "      <td>CASSEUIL</td>\n",
       "      <td>2080000</td>\n",
       "      <td>1600.000000</td>\n",
       "    </tr>\n",
       "    <tr>\n",
       "      <td>1378</td>\n",
       "      <td>maison</td>\n",
       "      <td>5</td>\n",
       "      <td>1135</td>\n",
       "      <td>LACANAU OCEAN</td>\n",
       "      <td>728000</td>\n",
       "      <td>641.409692</td>\n",
       "    </tr>\n",
       "    <tr>\n",
       "      <td>3313</td>\n",
       "      <td>maison</td>\n",
       "      <td>25</td>\n",
       "      <td>1000</td>\n",
       "      <td>BORDEAUX</td>\n",
       "      <td>2650000</td>\n",
       "      <td>2650.000000</td>\n",
       "    </tr>\n",
       "    <tr>\n",
       "      <td>2091</td>\n",
       "      <td>maison</td>\n",
       "      <td>25</td>\n",
       "      <td>1000</td>\n",
       "      <td>BORDEAUX</td>\n",
       "      <td>2650000</td>\n",
       "      <td>2650.000000</td>\n",
       "    </tr>\n",
       "    <tr>\n",
       "      <td>2090</td>\n",
       "      <td>maison</td>\n",
       "      <td>25</td>\n",
       "      <td>1000</td>\n",
       "      <td>BLAYE</td>\n",
       "      <td>2650000</td>\n",
       "      <td>2650.000000</td>\n",
       "    </tr>\n",
       "    <tr>\n",
       "      <td>1319</td>\n",
       "      <td>maison</td>\n",
       "      <td>14</td>\n",
       "      <td>988</td>\n",
       "      <td>ARVEYRES</td>\n",
       "      <td>1272000</td>\n",
       "      <td>1287.449393</td>\n",
       "    </tr>\n",
       "    <tr>\n",
       "      <td>2323</td>\n",
       "      <td>maison</td>\n",
       "      <td>20</td>\n",
       "      <td>960</td>\n",
       "      <td>BORDEAUX</td>\n",
       "      <td>1050000</td>\n",
       "      <td>1093.750000</td>\n",
       "    </tr>\n",
       "    <tr>\n",
       "      <td>1885</td>\n",
       "      <td>maison</td>\n",
       "      <td>18</td>\n",
       "      <td>820</td>\n",
       "      <td>BORDEAUX</td>\n",
       "      <td>2080000</td>\n",
       "      <td>2536.585366</td>\n",
       "    </tr>\n",
       "  </tbody>\n",
       "</table>\n",
       "</div>"
      ],
      "text/plain": [
       "     type_de_bien  nb_de_pieces  surface          ville     prix         p_m2\n",
       "3167       maison            15     1830       BORDEAUX  8900000  4863.387978\n",
       "1956       maison             8     1634         SALLES   987000   604.039168\n",
       "3277       maison            20     1300       CASSEUIL  2080000  1600.000000\n",
       "1378       maison             5     1135  LACANAU OCEAN   728000   641.409692\n",
       "3313       maison            25     1000       BORDEAUX  2650000  2650.000000\n",
       "2091       maison            25     1000       BORDEAUX  2650000  2650.000000\n",
       "2090       maison            25     1000          BLAYE  2650000  2650.000000\n",
       "1319       maison            14      988       ARVEYRES  1272000  1287.449393\n",
       "2323       maison            20      960       BORDEAUX  1050000  1093.750000\n",
       "1885       maison            18      820       BORDEAUX  2080000  2536.585366"
      ]
     },
     "execution_count": 19,
     "metadata": {},
     "output_type": "execute_result"
    }
   ],
   "source": [
    "df.sort_values(\"surface\", axis = 0, ascending = False).head(10)"
   ]
  },
  {
   "cell_type": "code",
   "execution_count": 20,
   "metadata": {},
   "outputs": [
    {
     "data": {
      "text/html": [
       "<div>\n",
       "<style scoped>\n",
       "    .dataframe tbody tr th:only-of-type {\n",
       "        vertical-align: middle;\n",
       "    }\n",
       "\n",
       "    .dataframe tbody tr th {\n",
       "        vertical-align: top;\n",
       "    }\n",
       "\n",
       "    .dataframe thead th {\n",
       "        text-align: right;\n",
       "    }\n",
       "</style>\n",
       "<table border=\"1\" class=\"dataframe\">\n",
       "  <thead>\n",
       "    <tr style=\"text-align: right;\">\n",
       "      <th></th>\n",
       "      <th>type_de_bien</th>\n",
       "      <th>nb_de_pieces</th>\n",
       "      <th>surface</th>\n",
       "      <th>ville</th>\n",
       "      <th>prix</th>\n",
       "      <th>p_m2</th>\n",
       "    </tr>\n",
       "  </thead>\n",
       "  <tbody>\n",
       "    <tr>\n",
       "      <td>2091</td>\n",
       "      <td>maison</td>\n",
       "      <td>25</td>\n",
       "      <td>1000</td>\n",
       "      <td>BORDEAUX</td>\n",
       "      <td>2650000</td>\n",
       "      <td>2650.000000</td>\n",
       "    </tr>\n",
       "    <tr>\n",
       "      <td>2090</td>\n",
       "      <td>maison</td>\n",
       "      <td>25</td>\n",
       "      <td>1000</td>\n",
       "      <td>BLAYE</td>\n",
       "      <td>2650000</td>\n",
       "      <td>2650.000000</td>\n",
       "    </tr>\n",
       "    <tr>\n",
       "      <td>3313</td>\n",
       "      <td>maison</td>\n",
       "      <td>25</td>\n",
       "      <td>1000</td>\n",
       "      <td>BORDEAUX</td>\n",
       "      <td>2650000</td>\n",
       "      <td>2650.000000</td>\n",
       "    </tr>\n",
       "    <tr>\n",
       "      <td>2323</td>\n",
       "      <td>maison</td>\n",
       "      <td>20</td>\n",
       "      <td>960</td>\n",
       "      <td>BORDEAUX</td>\n",
       "      <td>1050000</td>\n",
       "      <td>1093.750000</td>\n",
       "    </tr>\n",
       "    <tr>\n",
       "      <td>2205</td>\n",
       "      <td>maison</td>\n",
       "      <td>20</td>\n",
       "      <td>540</td>\n",
       "      <td>PUGNAC</td>\n",
       "      <td>420000</td>\n",
       "      <td>777.777778</td>\n",
       "    </tr>\n",
       "    <tr>\n",
       "      <td>3277</td>\n",
       "      <td>maison</td>\n",
       "      <td>20</td>\n",
       "      <td>1300</td>\n",
       "      <td>CASSEUIL</td>\n",
       "      <td>2080000</td>\n",
       "      <td>1600.000000</td>\n",
       "    </tr>\n",
       "    <tr>\n",
       "      <td>2204</td>\n",
       "      <td>maison</td>\n",
       "      <td>20</td>\n",
       "      <td>540</td>\n",
       "      <td>ST CHRISTOLY DE BLAYE</td>\n",
       "      <td>420000</td>\n",
       "      <td>777.777778</td>\n",
       "    </tr>\n",
       "    <tr>\n",
       "      <td>2975</td>\n",
       "      <td>maison</td>\n",
       "      <td>19</td>\n",
       "      <td>575</td>\n",
       "      <td>LIBOURNE</td>\n",
       "      <td>680000</td>\n",
       "      <td>1182.608696</td>\n",
       "    </tr>\n",
       "    <tr>\n",
       "      <td>2399</td>\n",
       "      <td>maison</td>\n",
       "      <td>19</td>\n",
       "      <td>715</td>\n",
       "      <td>BORDEAUX</td>\n",
       "      <td>840000</td>\n",
       "      <td>1174.825175</td>\n",
       "    </tr>\n",
       "    <tr>\n",
       "      <td>2398</td>\n",
       "      <td>maison</td>\n",
       "      <td>18</td>\n",
       "      <td>400</td>\n",
       "      <td>LIBOURNE</td>\n",
       "      <td>945000</td>\n",
       "      <td>2362.500000</td>\n",
       "    </tr>\n",
       "  </tbody>\n",
       "</table>\n",
       "</div>"
      ],
      "text/plain": [
       "     type_de_bien  nb_de_pieces  surface                  ville     prix  \\\n",
       "2091       maison            25     1000               BORDEAUX  2650000   \n",
       "2090       maison            25     1000                  BLAYE  2650000   \n",
       "3313       maison            25     1000               BORDEAUX  2650000   \n",
       "2323       maison            20      960               BORDEAUX  1050000   \n",
       "2205       maison            20      540                 PUGNAC   420000   \n",
       "3277       maison            20     1300               CASSEUIL  2080000   \n",
       "2204       maison            20      540  ST CHRISTOLY DE BLAYE   420000   \n",
       "2975       maison            19      575               LIBOURNE   680000   \n",
       "2399       maison            19      715               BORDEAUX   840000   \n",
       "2398       maison            18      400               LIBOURNE   945000   \n",
       "\n",
       "             p_m2  \n",
       "2091  2650.000000  \n",
       "2090  2650.000000  \n",
       "3313  2650.000000  \n",
       "2323  1093.750000  \n",
       "2205   777.777778  \n",
       "3277  1600.000000  \n",
       "2204   777.777778  \n",
       "2975  1182.608696  \n",
       "2399  1174.825175  \n",
       "2398  2362.500000  "
      ]
     },
     "execution_count": 20,
     "metadata": {},
     "output_type": "execute_result"
    }
   ],
   "source": [
    "df.sort_values(\"nb_de_pieces\", axis = 0, ascending = False).head(10)"
   ]
  },
  {
   "cell_type": "code",
   "execution_count": 21,
   "metadata": {},
   "outputs": [
    {
     "data": {
      "text/html": [
       "<div>\n",
       "<style scoped>\n",
       "    .dataframe tbody tr th:only-of-type {\n",
       "        vertical-align: middle;\n",
       "    }\n",
       "\n",
       "    .dataframe tbody tr th {\n",
       "        vertical-align: top;\n",
       "    }\n",
       "\n",
       "    .dataframe thead th {\n",
       "        text-align: right;\n",
       "    }\n",
       "</style>\n",
       "<table border=\"1\" class=\"dataframe\">\n",
       "  <thead>\n",
       "    <tr style=\"text-align: right;\">\n",
       "      <th></th>\n",
       "      <th>type_de_bien</th>\n",
       "      <th>nb_de_pieces</th>\n",
       "      <th>surface</th>\n",
       "      <th>ville</th>\n",
       "      <th>prix</th>\n",
       "      <th>p_m2</th>\n",
       "    </tr>\n",
       "  </thead>\n",
       "  <tbody>\n",
       "    <tr>\n",
       "      <td>2453</td>\n",
       "      <td>maison</td>\n",
       "      <td>3</td>\n",
       "      <td>40</td>\n",
       "      <td>RAUZAN</td>\n",
       "      <td>28500</td>\n",
       "      <td>712.500000</td>\n",
       "    </tr>\n",
       "    <tr>\n",
       "      <td>1813</td>\n",
       "      <td>maison</td>\n",
       "      <td>3</td>\n",
       "      <td>68</td>\n",
       "      <td>RAUZAN</td>\n",
       "      <td>38500</td>\n",
       "      <td>566.176471</td>\n",
       "    </tr>\n",
       "    <tr>\n",
       "      <td>3311</td>\n",
       "      <td>maison</td>\n",
       "      <td>2</td>\n",
       "      <td>41</td>\n",
       "      <td>VILLENEUVE</td>\n",
       "      <td>40000</td>\n",
       "      <td>975.609756</td>\n",
       "    </tr>\n",
       "    <tr>\n",
       "      <td>258</td>\n",
       "      <td>maison</td>\n",
       "      <td>3</td>\n",
       "      <td>87</td>\n",
       "      <td>ST YZANS DE MEDOC</td>\n",
       "      <td>40000</td>\n",
       "      <td>459.770115</td>\n",
       "    </tr>\n",
       "    <tr>\n",
       "      <td>230</td>\n",
       "      <td>maison</td>\n",
       "      <td>2</td>\n",
       "      <td>30</td>\n",
       "      <td>AUROS</td>\n",
       "      <td>45000</td>\n",
       "      <td>1500.000000</td>\n",
       "    </tr>\n",
       "    <tr>\n",
       "      <td>2356</td>\n",
       "      <td>appartement</td>\n",
       "      <td>2</td>\n",
       "      <td>36</td>\n",
       "      <td>BLAYE</td>\n",
       "      <td>48000</td>\n",
       "      <td>1333.333333</td>\n",
       "    </tr>\n",
       "    <tr>\n",
       "      <td>1739</td>\n",
       "      <td>appartement</td>\n",
       "      <td>2</td>\n",
       "      <td>50</td>\n",
       "      <td>CARTELEGUE</td>\n",
       "      <td>48000</td>\n",
       "      <td>960.000000</td>\n",
       "    </tr>\n",
       "    <tr>\n",
       "      <td>3270</td>\n",
       "      <td>maison</td>\n",
       "      <td>4</td>\n",
       "      <td>97</td>\n",
       "      <td>STE FOY LA GRANDE</td>\n",
       "      <td>49000</td>\n",
       "      <td>505.154639</td>\n",
       "    </tr>\n",
       "    <tr>\n",
       "      <td>3488</td>\n",
       "      <td>appartement</td>\n",
       "      <td>1</td>\n",
       "      <td>25</td>\n",
       "      <td>GIRONDE SUR DROPT</td>\n",
       "      <td>50000</td>\n",
       "      <td>2000.000000</td>\n",
       "    </tr>\n",
       "    <tr>\n",
       "      <td>3489</td>\n",
       "      <td>appartement</td>\n",
       "      <td>1</td>\n",
       "      <td>25</td>\n",
       "      <td>GIRONDE SUR DROPT</td>\n",
       "      <td>50000</td>\n",
       "      <td>2000.000000</td>\n",
       "    </tr>\n",
       "  </tbody>\n",
       "</table>\n",
       "</div>"
      ],
      "text/plain": [
       "     type_de_bien  nb_de_pieces  surface              ville   prix  \\\n",
       "2453       maison             3       40             RAUZAN  28500   \n",
       "1813       maison             3       68             RAUZAN  38500   \n",
       "3311       maison             2       41         VILLENEUVE  40000   \n",
       "258        maison             3       87  ST YZANS DE MEDOC  40000   \n",
       "230        maison             2       30              AUROS  45000   \n",
       "2356  appartement             2       36              BLAYE  48000   \n",
       "1739  appartement             2       50         CARTELEGUE  48000   \n",
       "3270       maison             4       97  STE FOY LA GRANDE  49000   \n",
       "3488  appartement             1       25  GIRONDE SUR DROPT  50000   \n",
       "3489  appartement             1       25  GIRONDE SUR DROPT  50000   \n",
       "\n",
       "             p_m2  \n",
       "2453   712.500000  \n",
       "1813   566.176471  \n",
       "3311   975.609756  \n",
       "258    459.770115  \n",
       "230   1500.000000  \n",
       "2356  1333.333333  \n",
       "1739   960.000000  \n",
       "3270   505.154639  \n",
       "3488  2000.000000  \n",
       "3489  2000.000000  "
      ]
     },
     "execution_count": 21,
     "metadata": {},
     "output_type": "execute_result"
    }
   ],
   "source": [
    "df.sort_values(\"prix\", axis = 0, ascending = True).head(10)"
   ]
  },
  {
   "cell_type": "code",
   "execution_count": 22,
   "metadata": {},
   "outputs": [],
   "source": [
    "# -- Outliers général -- 1155, 1337,1215,269,518,517 ,2204 ,2205,2842,2902,3024,1956\n",
    "\n",
    "df = df.drop([df.index[1155] , df.index[1337], df.index[1215],\n",
    "              df.index[269],df.index[518] ,df.index[517],\n",
    "              df.index[2204] , df.index[2205], df.index[2842],\n",
    "              df.index[2902],df.index[3024] ,df.index[1956]])"
   ]
  },
  {
   "cell_type": "code",
   "execution_count": 23,
   "metadata": {},
   "outputs": [
    {
     "data": {
      "text/plain": [
       "(3493, 6)"
      ]
     },
     "execution_count": 23,
     "metadata": {},
     "output_type": "execute_result"
    }
   ],
   "source": [
    "df.shape"
   ]
  },
  {
   "cell_type": "markdown",
   "metadata": {},
   "source": [
    "# Preprocessing, Split et création de Pipeline"
   ]
  },
  {
   "cell_type": "code",
   "execution_count": 24,
   "metadata": {},
   "outputs": [],
   "source": [
    "df['PriceLog'] = np.log(df.prix)"
   ]
  },
  {
   "cell_type": "code",
   "execution_count": 25,
   "metadata": {
    "scrolled": true
   },
   "outputs": [
    {
     "data": {
      "text/plain": [
       "prix            1.000000\n",
       "PriceLog        0.819907\n",
       "surface         0.598269\n",
       "nb_de_pieces    0.503994\n",
       "p_m2            0.427028\n",
       "Name: prix, dtype: float64"
      ]
     },
     "execution_count": 25,
     "metadata": {},
     "output_type": "execute_result"
    }
   ],
   "source": [
    "corr = df.corr().abs()\n",
    "corr.prix[corr.prix >= 0].sort_values(ascending=False)"
   ]
  },
  {
   "cell_type": "code",
   "execution_count": 26,
   "metadata": {},
   "outputs": [
    {
     "data": {
      "text/plain": [
       "((3493, 5), (3493,))"
      ]
     },
     "execution_count": 26,
     "metadata": {},
     "output_type": "execute_result"
    }
   ],
   "source": [
    "y_full = df['PriceLog'].values\n",
    "\n",
    "x_full = df.drop(['prix','PriceLog'], axis=1)\n",
    "x_full.shape,y_full.shape"
   ]
  },
  {
   "cell_type": "code",
   "execution_count": 27,
   "metadata": {},
   "outputs": [],
   "source": [
    "categoricals = ['type_de_bien', 'ville']"
   ]
  },
  {
   "cell_type": "code",
   "execution_count": 28,
   "metadata": {},
   "outputs": [],
   "source": [
    "categorical_pipe = Pipeline([\n",
    "    ('oe', OneHotEncoder(handle_unknown=\"ignore\"))\n",
    "])"
   ]
  },
  {
   "cell_type": "code",
   "execution_count": 29,
   "metadata": {},
   "outputs": [],
   "source": [
    "poly = ['nb_de_pieces', 'surface',\"p_m2\"]"
   ]
  },
  {
   "cell_type": "code",
   "execution_count": 30,
   "metadata": {},
   "outputs": [],
   "source": [
    "poly_pipe = Pipeline([\n",
    "    (\"poly\", PolynomialFeatures(2))\n",
    "])"
   ]
  },
  {
   "cell_type": "code",
   "execution_count": 31,
   "metadata": {},
   "outputs": [],
   "source": [
    "scale_pipe = Pipeline([\n",
    "    ('scaler', StandardScaler())\n",
    "])"
   ]
  },
  {
   "cell_type": "code",
   "execution_count": 32,
   "metadata": {},
   "outputs": [],
   "source": [
    "preprocess_pipe = ColumnTransformer([\n",
    "    (\"enc\", categorical_pipe, categoricals),\n",
    "    (\"sca\", scale_pipe, poly),\n",
    "    (\"pol\", poly_pipe , poly),\n",
    "])"
   ]
  },
  {
   "cell_type": "code",
   "execution_count": 33,
   "metadata": {},
   "outputs": [],
   "source": [
    "xgb = xgboost.XGBRegressor(colsample_bytree=0.5, subsample=0.7,\n",
    "                             learning_rate=0.05, max_depth=5, \n",
    "                             min_child_weight=1.8, n_estimators=1000,\n",
    "                             reg_alpha=0.1, reg_lambda=0.3, gamma=0.01, \n",
    "                             silent=1, random_state =7, nthread = -1)"
   ]
  },
  {
   "cell_type": "code",
   "execution_count": 34,
   "metadata": {},
   "outputs": [],
   "source": [
    "seed = 60\n",
    "np.random.seed(seed)"
   ]
  },
  {
   "cell_type": "code",
   "execution_count": 35,
   "metadata": {},
   "outputs": [
    {
     "data": {
      "text/plain": [
       "((3143, 5), (350, 5), (3143,), (350,))"
      ]
     },
     "execution_count": 35,
     "metadata": {},
     "output_type": "execute_result"
    }
   ],
   "source": [
    "x_train, x_val, y_train, y_val = train_test_split(x_full,y_full , test_size=0.1, random_state=seed)\n",
    "x_train.shape, x_val.shape, y_train.shape, y_val.shape"
   ]
  },
  {
   "cell_type": "code",
   "execution_count": 36,
   "metadata": {},
   "outputs": [],
   "source": [
    "model = Pipeline([\n",
    "    ('pre', preprocess_pipe),\n",
    "    ('reg', xgb)\n",
    "])"
   ]
  },
  {
   "cell_type": "markdown",
   "metadata": {},
   "source": [
    "# Entrainement du modèle"
   ]
  },
  {
   "cell_type": "code",
   "execution_count": 37,
   "metadata": {},
   "outputs": [
    {
     "data": {
      "text/plain": [
       "dict_keys(['memory', 'steps', 'verbose', 'pre', 'reg', 'pre__n_jobs', 'pre__remainder', 'pre__sparse_threshold', 'pre__transformer_weights', 'pre__transformers', 'pre__verbose', 'pre__enc', 'pre__sca', 'pre__pol', 'pre__enc__memory', 'pre__enc__steps', 'pre__enc__verbose', 'pre__enc__oe', 'pre__enc__oe__categories', 'pre__enc__oe__drop', 'pre__enc__oe__dtype', 'pre__enc__oe__handle_unknown', 'pre__enc__oe__sparse', 'pre__sca__memory', 'pre__sca__steps', 'pre__sca__verbose', 'pre__sca__scaler', 'pre__sca__scaler__copy', 'pre__sca__scaler__with_mean', 'pre__sca__scaler__with_std', 'pre__pol__memory', 'pre__pol__steps', 'pre__pol__verbose', 'pre__pol__poly', 'pre__pol__poly__degree', 'pre__pol__poly__include_bias', 'pre__pol__poly__interaction_only', 'pre__pol__poly__order', 'reg__base_score', 'reg__booster', 'reg__colsample_bylevel', 'reg__colsample_bynode', 'reg__colsample_bytree', 'reg__gamma', 'reg__importance_type', 'reg__learning_rate', 'reg__max_delta_step', 'reg__max_depth', 'reg__min_child_weight', 'reg__missing', 'reg__n_estimators', 'reg__n_jobs', 'reg__nthread', 'reg__objective', 'reg__random_state', 'reg__reg_alpha', 'reg__reg_lambda', 'reg__scale_pos_weight', 'reg__seed', 'reg__silent', 'reg__subsample', 'reg__verbosity'])"
      ]
     },
     "execution_count": 37,
     "metadata": {},
     "output_type": "execute_result"
    }
   ],
   "source": [
    "model.get_params().keys()"
   ]
  },
  {
   "cell_type": "code",
   "execution_count": 38,
   "metadata": {},
   "outputs": [],
   "source": [
    "if look_for_opti : \n",
    "    param_grid = [{\n",
    "        'reg__n_estimators': [800,900,1000,1200],'reg__max_depth': [4,5,6,7]\n",
    "    }]\n",
    "\n",
    "    my_learn = model\n",
    "    grid_search = GridSearchCV(my_learn,param_grid, cv=5, scoring ='neg_mean_squared_error', return_train_score=True)\n",
    "    grid_search.fit(x_train,y_train)\n",
    "\n",
    "if look_for_opti : \n",
    "    grid_search.best_params_"
   ]
  },
  {
   "cell_type": "code",
   "execution_count": 39,
   "metadata": {},
   "outputs": [],
   "source": [
    "model.fit(x_train,y_train);"
   ]
  },
  {
   "cell_type": "markdown",
   "metadata": {},
   "source": [
    "# Evaluation du modèle avec le fichier de train"
   ]
  },
  {
   "cell_type": "code",
   "execution_count": 40,
   "metadata": {},
   "outputs": [
    {
     "data": {
      "text/plain": [
       "<matplotlib.axes._subplots.AxesSubplot at 0x7fd2068277b8>"
      ]
     },
     "execution_count": 40,
     "metadata": {},
     "output_type": "execute_result"
    },
    {
     "data": {
      "image/png": "[encoded data removed]",
      "text/plain": [
       "<Figure size 432x288 with 1 Axes>"
      ]
     },
     "metadata": {},
     "output_type": "display_data"
    }
   ],
   "source": [
    "xgboost.plot_importance(xgb,max_num_features=20)"
   ]
  },
  {
   "cell_type": "code",
   "execution_count": 41,
   "metadata": {},
   "outputs": [],
   "source": [
    "y_valid_pred = model.predict(x_train)"
   ]
  },
  {
   "cell_type": "code",
   "execution_count": 42,
   "metadata": {},
   "outputs": [
    {
     "name": "stdout",
     "output_type": "stream",
     "text": [
      "RMSE :  29110.9892\n",
      "MAE :  6774.9093\n"
     ]
    },
    {
     "data": {
      "text/plain": [
       "<matplotlib.axes._subplots.AxesSubplot at 0x7fd20685dda0>"
      ]
     },
     "execution_count": 42,
     "metadata": {},
     "output_type": "execute_result"
    },
    {
     "data": {
      "image/png": "[encoded data removed]",
      "text/plain": [
       "<Figure size 432x288 with 1 Axes>"
      ]
     },
     "metadata": {},
     "output_type": "display_data"
    }
   ],
   "source": [
    "\n",
    "xgb_pred_ref = np.exp(y_valid_pred)\n",
    "\n",
    "y_val_rescale = y_train.reshape(y_train.shape[0])\n",
    "y_val_rescale = np.exp(y_val_rescale)\n",
    "\n",
    "RMSE = np.sqrt(MSE(xgb_pred_ref, y_val_rescale))\n",
    "print('RMSE : ', RMSE.round(4))\n",
    "\n",
    "score = MAE(xgb_pred_ref, y_val_rescale)\n",
    "print('MAE : ', round(score,4))\n",
    "\n",
    "sns.regplot(xgb_pred_ref, y_val_rescale, color=\"g\")"
   ]
  },
  {
   "cell_type": "markdown",
   "metadata": {},
   "source": [
    "# Evaluation du modèle avec le fichier de validation"
   ]
  },
  {
   "cell_type": "code",
   "execution_count": 43,
   "metadata": {},
   "outputs": [],
   "source": [
    "y_valid_pred = model.predict(x_val)"
   ]
  },
  {
   "cell_type": "code",
   "execution_count": 44,
   "metadata": {},
   "outputs": [
    {
     "name": "stdout",
     "output_type": "stream",
     "text": [
      "RMSE :  12025.5743\n",
      "MAE :  6968.3053\n"
     ]
    },
    {
     "data": {
      "text/plain": [
       "<matplotlib.axes._subplots.AxesSubplot at 0x7fd20642c550>"
      ]
     },
     "execution_count": 44,
     "metadata": {},
     "output_type": "execute_result"
    },
    {
     "data": {
      "image/png": "[encoded data removed]",
      "text/plain": [
       "<Figure size 432x288 with 1 Axes>"
      ]
     },
     "metadata": {},
     "output_type": "display_data"
    }
   ],
   "source": [
    "xgb_pred_ref = np.exp(y_valid_pred)\n",
    "\n",
    "y_val_rescale = y_val.reshape(y_val.shape[0])\n",
    "y_val_rescale = np.exp(y_val_rescale)\n",
    "\n",
    "RMSE = np.sqrt(MSE(xgb_pred_ref, y_val_rescale))\n",
    "print('RMSE : ', RMSE.round(4))\n",
    "\n",
    "score = MAE(xgb_pred_ref, y_val_rescale)\n",
    "print('MAE : ', round(score,4))\n",
    "\n",
    "sns.regplot(xgb_pred_ref, y_val_rescale, color=\"g\")"
   ]
  },
  {
   "cell_type": "code",
   "execution_count": 45,
   "metadata": {
    "scrolled": false
   },
   "outputs": [
    {
     "name": "stdout",
     "output_type": "stream",
     "text": [
      "nom colonne prediction : Prediction\n",
      "nom colonne output : val_price\n",
      "MAPE =  1.73\n",
      "On a 183 erreurs positive, 167 erreurs negative, 0 prediction parfaite\n"
     ]
    },
    {
     "data": {
      "text/html": [
       "<div>\n",
       "<style scoped>\n",
       "    .dataframe tbody tr th:only-of-type {\n",
       "        vertical-align: middle;\n",
       "    }\n",
       "\n",
       "    .dataframe tbody tr th {\n",
       "        vertical-align: top;\n",
       "    }\n",
       "\n",
       "    .dataframe thead th {\n",
       "        text-align: right;\n",
       "    }\n",
       "</style>\n",
       "<table border=\"1\" class=\"dataframe\">\n",
       "  <thead>\n",
       "    <tr style=\"text-align: right;\">\n",
       "      <th></th>\n",
       "      <th>val_price</th>\n",
       "      <th>Prediction</th>\n",
       "      <th>pourcerror</th>\n",
       "      <th>errorabs</th>\n",
       "      <th>mape</th>\n",
       "      <th>RMSE</th>\n",
       "      <th>positive erreur</th>\n",
       "      <th>negatif erreur</th>\n",
       "      <th>prediction parfaite</th>\n",
       "    </tr>\n",
       "  </thead>\n",
       "  <tbody>\n",
       "    <tr>\n",
       "      <td>0</td>\n",
       "      <td>313000.0</td>\n",
       "      <td>315457.0</td>\n",
       "      <td>0.007850</td>\n",
       "      <td>0.01</td>\n",
       "      <td>1.73</td>\n",
       "      <td>12025.562573</td>\n",
       "      <td>183.0</td>\n",
       "      <td>167.0</td>\n",
       "      <td>0.0</td>\n",
       "    </tr>\n",
       "    <tr>\n",
       "      <td>1</td>\n",
       "      <td>254000.0</td>\n",
       "      <td>262960.0</td>\n",
       "      <td>0.035276</td>\n",
       "      <td>0.04</td>\n",
       "      <td>NaN</td>\n",
       "      <td>NaN</td>\n",
       "      <td>NaN</td>\n",
       "      <td>NaN</td>\n",
       "      <td>NaN</td>\n",
       "    </tr>\n",
       "    <tr>\n",
       "      <td>2</td>\n",
       "      <td>242000.0</td>\n",
       "      <td>236107.0</td>\n",
       "      <td>-0.024351</td>\n",
       "      <td>0.02</td>\n",
       "      <td>NaN</td>\n",
       "      <td>NaN</td>\n",
       "      <td>NaN</td>\n",
       "      <td>NaN</td>\n",
       "      <td>NaN</td>\n",
       "    </tr>\n",
       "    <tr>\n",
       "      <td>3</td>\n",
       "      <td>840000.0</td>\n",
       "      <td>841251.0</td>\n",
       "      <td>0.001489</td>\n",
       "      <td>0.00</td>\n",
       "      <td>NaN</td>\n",
       "      <td>NaN</td>\n",
       "      <td>NaN</td>\n",
       "      <td>NaN</td>\n",
       "      <td>NaN</td>\n",
       "    </tr>\n",
       "    <tr>\n",
       "      <td>4</td>\n",
       "      <td>318000.0</td>\n",
       "      <td>311002.0</td>\n",
       "      <td>-0.022006</td>\n",
       "      <td>0.02</td>\n",
       "      <td>NaN</td>\n",
       "      <td>NaN</td>\n",
       "      <td>NaN</td>\n",
       "      <td>NaN</td>\n",
       "      <td>NaN</td>\n",
       "    </tr>\n",
       "    <tr>\n",
       "      <td>...</td>\n",
       "      <td>...</td>\n",
       "      <td>...</td>\n",
       "      <td>...</td>\n",
       "      <td>...</td>\n",
       "      <td>...</td>\n",
       "      <td>...</td>\n",
       "      <td>...</td>\n",
       "      <td>...</td>\n",
       "      <td>...</td>\n",
       "    </tr>\n",
       "    <tr>\n",
       "      <td>345</td>\n",
       "      <td>335000.0</td>\n",
       "      <td>330923.0</td>\n",
       "      <td>-0.012170</td>\n",
       "      <td>0.01</td>\n",
       "      <td>NaN</td>\n",
       "      <td>NaN</td>\n",
       "      <td>NaN</td>\n",
       "      <td>NaN</td>\n",
       "      <td>NaN</td>\n",
       "    </tr>\n",
       "    <tr>\n",
       "      <td>346</td>\n",
       "      <td>75000.0</td>\n",
       "      <td>76248.0</td>\n",
       "      <td>0.016640</td>\n",
       "      <td>0.02</td>\n",
       "      <td>NaN</td>\n",
       "      <td>NaN</td>\n",
       "      <td>NaN</td>\n",
       "      <td>NaN</td>\n",
       "      <td>NaN</td>\n",
       "    </tr>\n",
       "    <tr>\n",
       "      <td>347</td>\n",
       "      <td>389200.0</td>\n",
       "      <td>398152.0</td>\n",
       "      <td>0.023001</td>\n",
       "      <td>0.02</td>\n",
       "      <td>NaN</td>\n",
       "      <td>NaN</td>\n",
       "      <td>NaN</td>\n",
       "      <td>NaN</td>\n",
       "      <td>NaN</td>\n",
       "    </tr>\n",
       "    <tr>\n",
       "      <td>348</td>\n",
       "      <td>213000.0</td>\n",
       "      <td>208981.0</td>\n",
       "      <td>-0.018869</td>\n",
       "      <td>0.02</td>\n",
       "      <td>NaN</td>\n",
       "      <td>NaN</td>\n",
       "      <td>NaN</td>\n",
       "      <td>NaN</td>\n",
       "      <td>NaN</td>\n",
       "    </tr>\n",
       "    <tr>\n",
       "      <td>349</td>\n",
       "      <td>436800.0</td>\n",
       "      <td>442975.0</td>\n",
       "      <td>0.014137</td>\n",
       "      <td>0.01</td>\n",
       "      <td>NaN</td>\n",
       "      <td>NaN</td>\n",
       "      <td>NaN</td>\n",
       "      <td>NaN</td>\n",
       "      <td>NaN</td>\n",
       "    </tr>\n",
       "  </tbody>\n",
       "</table>\n",
       "<p>350 rows × 9 columns</p>\n",
       "</div>"
      ],
      "text/plain": [
       "     val_price  Prediction  pourcerror  errorabs  mape          RMSE  \\\n",
       "0     313000.0    315457.0    0.007850      0.01  1.73  12025.562573   \n",
       "1     254000.0    262960.0    0.035276      0.04   NaN           NaN   \n",
       "2     242000.0    236107.0   -0.024351      0.02   NaN           NaN   \n",
       "3     840000.0    841251.0    0.001489      0.00   NaN           NaN   \n",
       "4     318000.0    311002.0   -0.022006      0.02   NaN           NaN   \n",
       "..         ...         ...         ...       ...   ...           ...   \n",
       "345   335000.0    330923.0   -0.012170      0.01   NaN           NaN   \n",
       "346    75000.0     76248.0    0.016640      0.02   NaN           NaN   \n",
       "347   389200.0    398152.0    0.023001      0.02   NaN           NaN   \n",
       "348   213000.0    208981.0   -0.018869      0.02   NaN           NaN   \n",
       "349   436800.0    442975.0    0.014137      0.01   NaN           NaN   \n",
       "\n",
       "     positive erreur  negatif erreur  prediction parfaite  \n",
       "0              183.0           167.0                  0.0  \n",
       "1                NaN             NaN                  NaN  \n",
       "2                NaN             NaN                  NaN  \n",
       "3                NaN             NaN                  NaN  \n",
       "4                NaN             NaN                  NaN  \n",
       "..               ...             ...                  ...  \n",
       "345              NaN             NaN                  NaN  \n",
       "346              NaN             NaN                  NaN  \n",
       "347              NaN             NaN                  NaN  \n",
       "348              NaN             NaN                  NaN  \n",
       "349              NaN             NaN                  NaN  \n",
       "\n",
       "[350 rows x 9 columns]"
      ]
     },
     "execution_count": 45,
     "metadata": {},
     "output_type": "execute_result"
    }
   ],
   "source": [
    "visu = pd.DataFrame()\n",
    "visu[\"val_price\"] = y_val_rescale\n",
    "visu[\"Prediction\"] = xgb_pred_ref\n",
    "visu[\"Prediction\"] = round(visu[\"Prediction\"])\n",
    "\n",
    "\n",
    "ALYR.regr(visu)\n",
    "ALYR.posneg(visu)\n",
    "\n",
    "######### saisir Prediction puis val_price ###############"
   ]
  },
  {
   "cell_type": "code",
   "execution_count": 46,
   "metadata": {},
   "outputs": [
    {
     "data": {
      "text/html": [
       "<div>\n",
       "<style scoped>\n",
       "    .dataframe tbody tr th:only-of-type {\n",
       "        vertical-align: middle;\n",
       "    }\n",
       "\n",
       "    .dataframe tbody tr th {\n",
       "        vertical-align: top;\n",
       "    }\n",
       "\n",
       "    .dataframe thead th {\n",
       "        text-align: right;\n",
       "    }\n",
       "</style>\n",
       "<table border=\"1\" class=\"dataframe\">\n",
       "  <thead>\n",
       "    <tr style=\"text-align: right;\">\n",
       "      <th></th>\n",
       "      <th>val_price</th>\n",
       "      <th>Prediction</th>\n",
       "      <th>pourcerror</th>\n",
       "      <th>errorabs</th>\n",
       "      <th>mape</th>\n",
       "      <th>RMSE</th>\n",
       "      <th>positive erreur</th>\n",
       "      <th>negatif erreur</th>\n",
       "      <th>prediction parfaite</th>\n",
       "    </tr>\n",
       "  </thead>\n",
       "  <tbody>\n",
       "    <tr>\n",
       "      <td>258</td>\n",
       "      <td>48000.0</td>\n",
       "      <td>52304.0</td>\n",
       "      <td>0.089667</td>\n",
       "      <td>0.09</td>\n",
       "      <td>NaN</td>\n",
       "      <td>NaN</td>\n",
       "      <td>NaN</td>\n",
       "      <td>NaN</td>\n",
       "      <td>NaN</td>\n",
       "    </tr>\n",
       "    <tr>\n",
       "      <td>77</td>\n",
       "      <td>399000.0</td>\n",
       "      <td>367399.0</td>\n",
       "      <td>-0.079201</td>\n",
       "      <td>0.08</td>\n",
       "      <td>NaN</td>\n",
       "      <td>NaN</td>\n",
       "      <td>NaN</td>\n",
       "      <td>NaN</td>\n",
       "      <td>NaN</td>\n",
       "    </tr>\n",
       "    <tr>\n",
       "      <td>105</td>\n",
       "      <td>298000.0</td>\n",
       "      <td>274472.0</td>\n",
       "      <td>-0.078953</td>\n",
       "      <td>0.08</td>\n",
       "      <td>NaN</td>\n",
       "      <td>NaN</td>\n",
       "      <td>NaN</td>\n",
       "      <td>NaN</td>\n",
       "      <td>NaN</td>\n",
       "    </tr>\n",
       "    <tr>\n",
       "      <td>80</td>\n",
       "      <td>125000.0</td>\n",
       "      <td>134163.0</td>\n",
       "      <td>0.073304</td>\n",
       "      <td>0.07</td>\n",
       "      <td>NaN</td>\n",
       "      <td>NaN</td>\n",
       "      <td>NaN</td>\n",
       "      <td>NaN</td>\n",
       "      <td>NaN</td>\n",
       "    </tr>\n",
       "    <tr>\n",
       "      <td>307</td>\n",
       "      <td>945000.0</td>\n",
       "      <td>1007325.0</td>\n",
       "      <td>0.065952</td>\n",
       "      <td>0.07</td>\n",
       "      <td>NaN</td>\n",
       "      <td>NaN</td>\n",
       "      <td>NaN</td>\n",
       "      <td>NaN</td>\n",
       "      <td>NaN</td>\n",
       "    </tr>\n",
       "    <tr>\n",
       "      <td>70</td>\n",
       "      <td>635000.0</td>\n",
       "      <td>599157.0</td>\n",
       "      <td>-0.056446</td>\n",
       "      <td>0.06</td>\n",
       "      <td>NaN</td>\n",
       "      <td>NaN</td>\n",
       "      <td>NaN</td>\n",
       "      <td>NaN</td>\n",
       "      <td>NaN</td>\n",
       "    </tr>\n",
       "    <tr>\n",
       "      <td>91</td>\n",
       "      <td>1094640.0</td>\n",
       "      <td>1033228.0</td>\n",
       "      <td>-0.056102</td>\n",
       "      <td>0.06</td>\n",
       "      <td>NaN</td>\n",
       "      <td>NaN</td>\n",
       "      <td>NaN</td>\n",
       "      <td>NaN</td>\n",
       "      <td>NaN</td>\n",
       "    </tr>\n",
       "    <tr>\n",
       "      <td>143</td>\n",
       "      <td>168000.0</td>\n",
       "      <td>177808.0</td>\n",
       "      <td>0.058381</td>\n",
       "      <td>0.06</td>\n",
       "      <td>NaN</td>\n",
       "      <td>NaN</td>\n",
       "      <td>NaN</td>\n",
       "      <td>NaN</td>\n",
       "      <td>NaN</td>\n",
       "    </tr>\n",
       "    <tr>\n",
       "      <td>287</td>\n",
       "      <td>420000.0</td>\n",
       "      <td>396020.0</td>\n",
       "      <td>-0.057095</td>\n",
       "      <td>0.06</td>\n",
       "      <td>NaN</td>\n",
       "      <td>NaN</td>\n",
       "      <td>NaN</td>\n",
       "      <td>NaN</td>\n",
       "      <td>NaN</td>\n",
       "    </tr>\n",
       "    <tr>\n",
       "      <td>309</td>\n",
       "      <td>154500.0</td>\n",
       "      <td>163472.0</td>\n",
       "      <td>0.058071</td>\n",
       "      <td>0.06</td>\n",
       "      <td>NaN</td>\n",
       "      <td>NaN</td>\n",
       "      <td>NaN</td>\n",
       "      <td>NaN</td>\n",
       "      <td>NaN</td>\n",
       "    </tr>\n",
       "    <tr>\n",
       "      <td>273</td>\n",
       "      <td>108000.0</td>\n",
       "      <td>103069.0</td>\n",
       "      <td>-0.045657</td>\n",
       "      <td>0.05</td>\n",
       "      <td>NaN</td>\n",
       "      <td>NaN</td>\n",
       "      <td>NaN</td>\n",
       "      <td>NaN</td>\n",
       "      <td>NaN</td>\n",
       "    </tr>\n",
       "    <tr>\n",
       "      <td>176</td>\n",
       "      <td>90000.0</td>\n",
       "      <td>85905.0</td>\n",
       "      <td>-0.045500</td>\n",
       "      <td>0.05</td>\n",
       "      <td>NaN</td>\n",
       "      <td>NaN</td>\n",
       "      <td>NaN</td>\n",
       "      <td>NaN</td>\n",
       "      <td>NaN</td>\n",
       "    </tr>\n",
       "    <tr>\n",
       "      <td>196</td>\n",
       "      <td>404000.0</td>\n",
       "      <td>424742.0</td>\n",
       "      <td>0.051342</td>\n",
       "      <td>0.05</td>\n",
       "      <td>NaN</td>\n",
       "      <td>NaN</td>\n",
       "      <td>NaN</td>\n",
       "      <td>NaN</td>\n",
       "      <td>NaN</td>\n",
       "    </tr>\n",
       "    <tr>\n",
       "      <td>242</td>\n",
       "      <td>555000.0</td>\n",
       "      <td>585284.0</td>\n",
       "      <td>0.054566</td>\n",
       "      <td>0.05</td>\n",
       "      <td>NaN</td>\n",
       "      <td>NaN</td>\n",
       "      <td>NaN</td>\n",
       "      <td>NaN</td>\n",
       "      <td>NaN</td>\n",
       "    </tr>\n",
       "    <tr>\n",
       "      <td>266</td>\n",
       "      <td>211000.0</td>\n",
       "      <td>220615.0</td>\n",
       "      <td>0.045569</td>\n",
       "      <td>0.05</td>\n",
       "      <td>NaN</td>\n",
       "      <td>NaN</td>\n",
       "      <td>NaN</td>\n",
       "      <td>NaN</td>\n",
       "      <td>NaN</td>\n",
       "    </tr>\n",
       "    <tr>\n",
       "      <td>330</td>\n",
       "      <td>548500.0</td>\n",
       "      <td>574312.0</td>\n",
       "      <td>0.047059</td>\n",
       "      <td>0.05</td>\n",
       "      <td>NaN</td>\n",
       "      <td>NaN</td>\n",
       "      <td>NaN</td>\n",
       "      <td>NaN</td>\n",
       "      <td>NaN</td>\n",
       "    </tr>\n",
       "    <tr>\n",
       "      <td>284</td>\n",
       "      <td>271000.0</td>\n",
       "      <td>285592.0</td>\n",
       "      <td>0.053845</td>\n",
       "      <td>0.05</td>\n",
       "      <td>NaN</td>\n",
       "      <td>NaN</td>\n",
       "      <td>NaN</td>\n",
       "      <td>NaN</td>\n",
       "      <td>NaN</td>\n",
       "    </tr>\n",
       "    <tr>\n",
       "      <td>149</td>\n",
       "      <td>526000.0</td>\n",
       "      <td>544732.0</td>\n",
       "      <td>0.035612</td>\n",
       "      <td>0.04</td>\n",
       "      <td>NaN</td>\n",
       "      <td>NaN</td>\n",
       "      <td>NaN</td>\n",
       "      <td>NaN</td>\n",
       "      <td>NaN</td>\n",
       "    </tr>\n",
       "    <tr>\n",
       "      <td>1</td>\n",
       "      <td>254000.0</td>\n",
       "      <td>262960.0</td>\n",
       "      <td>0.035276</td>\n",
       "      <td>0.04</td>\n",
       "      <td>NaN</td>\n",
       "      <td>NaN</td>\n",
       "      <td>NaN</td>\n",
       "      <td>NaN</td>\n",
       "      <td>NaN</td>\n",
       "    </tr>\n",
       "    <tr>\n",
       "      <td>172</td>\n",
       "      <td>86500.0</td>\n",
       "      <td>89770.0</td>\n",
       "      <td>0.037803</td>\n",
       "      <td>0.04</td>\n",
       "      <td>NaN</td>\n",
       "      <td>NaN</td>\n",
       "      <td>NaN</td>\n",
       "      <td>NaN</td>\n",
       "      <td>NaN</td>\n",
       "    </tr>\n",
       "  </tbody>\n",
       "</table>\n",
       "</div>"
      ],
      "text/plain": [
       "     val_price  Prediction  pourcerror  errorabs  mape  RMSE  positive erreur  \\\n",
       "258    48000.0     52304.0    0.089667      0.09   NaN   NaN              NaN   \n",
       "77    399000.0    367399.0   -0.079201      0.08   NaN   NaN              NaN   \n",
       "105   298000.0    274472.0   -0.078953      0.08   NaN   NaN              NaN   \n",
       "80    125000.0    134163.0    0.073304      0.07   NaN   NaN              NaN   \n",
       "307   945000.0   1007325.0    0.065952      0.07   NaN   NaN              NaN   \n",
       "70    635000.0    599157.0   -0.056446      0.06   NaN   NaN              NaN   \n",
       "91   1094640.0   1033228.0   -0.056102      0.06   NaN   NaN              NaN   \n",
       "143   168000.0    177808.0    0.058381      0.06   NaN   NaN              NaN   \n",
       "287   420000.0    396020.0   -0.057095      0.06   NaN   NaN              NaN   \n",
       "309   154500.0    163472.0    0.058071      0.06   NaN   NaN              NaN   \n",
       "273   108000.0    103069.0   -0.045657      0.05   NaN   NaN              NaN   \n",
       "176    90000.0     85905.0   -0.045500      0.05   NaN   NaN              NaN   \n",
       "196   404000.0    424742.0    0.051342      0.05   NaN   NaN              NaN   \n",
       "242   555000.0    585284.0    0.054566      0.05   NaN   NaN              NaN   \n",
       "266   211000.0    220615.0    0.045569      0.05   NaN   NaN              NaN   \n",
       "330   548500.0    574312.0    0.047059      0.05   NaN   NaN              NaN   \n",
       "284   271000.0    285592.0    0.053845      0.05   NaN   NaN              NaN   \n",
       "149   526000.0    544732.0    0.035612      0.04   NaN   NaN              NaN   \n",
       "1     254000.0    262960.0    0.035276      0.04   NaN   NaN              NaN   \n",
       "172    86500.0     89770.0    0.037803      0.04   NaN   NaN              NaN   \n",
       "\n",
       "     negatif erreur  prediction parfaite  \n",
       "258             NaN                  NaN  \n",
       "77              NaN                  NaN  \n",
       "105             NaN                  NaN  \n",
       "80              NaN                  NaN  \n",
       "307             NaN                  NaN  \n",
       "70              NaN                  NaN  \n",
       "91              NaN                  NaN  \n",
       "143             NaN                  NaN  \n",
       "287             NaN                  NaN  \n",
       "309             NaN                  NaN  \n",
       "273             NaN                  NaN  \n",
       "176             NaN                  NaN  \n",
       "196             NaN                  NaN  \n",
       "242             NaN                  NaN  \n",
       "266             NaN                  NaN  \n",
       "330             NaN                  NaN  \n",
       "284             NaN                  NaN  \n",
       "149             NaN                  NaN  \n",
       "1               NaN                  NaN  \n",
       "172             NaN                  NaN  "
      ]
     },
     "execution_count": 46,
     "metadata": {},
     "output_type": "execute_result"
    }
   ],
   "source": [
    "visu.sort_values(\"errorabs\", axis = 0, ascending = False).head(20)"
   ]
  },
  {
   "cell_type": "code",
   "execution_count": 47,
   "metadata": {},
   "outputs": [
    {
     "name": "stdout",
     "output_type": "stream",
     "text": [
      "valeur du seuil :0.2\n",
      "il y'a 350 erreurs inférieurs à 0.2, il y'a 0 erreurs supérieurs à 0.2\n",
      "erreur sous seuil = 100.0%\n"
     ]
    },
    {
     "data": {
      "text/plain": [
       "100.0"
      ]
     },
     "execution_count": 47,
     "metadata": {},
     "output_type": "execute_result"
    }
   ],
   "source": [
    "ALYR.seuil_vs_error(visu)\n",
    "\n",
    "######## Choisir un seuil en float entre 0.0 et 1 ######################"
   ]
  },
  {
   "cell_type": "code",
   "execution_count": 48,
   "metadata": {},
   "outputs": [
    {
     "name": "stdout",
     "output_type": "stream",
     "text": [
      "valeur du seuil :0.1\n",
      "il y'a 350 erreurs inférieurs à 0.1, il y'a 0 erreurs supérieurs à 0.1\n",
      "erreur sous seuil = 100.0%\n"
     ]
    },
    {
     "data": {
      "text/plain": [
       "100.0"
      ]
     },
     "execution_count": 48,
     "metadata": {},
     "output_type": "execute_result"
    }
   ],
   "source": [
    "ALYR.seuil_vs_error(visu)\n",
    "\n",
    "######## Choisir un seuil en float entre 0.0 et 1 ######################"
   ]
  },
  {
   "cell_type": "code",
   "execution_count": 49,
   "metadata": {},
   "outputs": [],
   "source": [
    "######## Dump du modèle, pensez a changer le numéro de version ######################\n",
    "\n",
    "# dump(model, 'model_xgb_v3.joblib')"
   ]
  },
  {
   "cell_type": "markdown",
   "metadata": {},
   "source": [
    "# Simulation en Production"
   ]
  },
  {
   "cell_type": "code",
   "execution_count": 50,
   "metadata": {},
   "outputs": [],
   "source": [
    "def singlePrediction():\n",
    "    k1 = str(input(\"Type de bien : maison ou appartement : \"))\n",
    "    k1 = k1.lower()\n",
    "    k2 = int(input(\"Nombre de pièces dans le logement : \"))\n",
    "    \n",
    "    k3 = int(input(\"Combien de métres carrés : \"))\n",
    "    k4 = str(input(\"Dans quelle ville : \"))\n",
    "    k4= k4.upper()\n",
    "    \n",
    "    \n",
    "    sclol = df[df['ville'].isin([f\"{k4}\"])]\n",
    "    if len(sclol) < 4 :\n",
    "        niv_confidence = \"Faible, l'Ia connait peut cette ville\"\n",
    "    elif len(sclol) >3 and len(sclol) <10 : \n",
    "        niv_confidence = \"Normal, l'Ia connait cette ville, mais manque un peu d'information\"\n",
    "    elif len(sclol) >=10 : \n",
    "        niv_confidence = \"Forte\"\n",
    "    \n",
    "    if len(sclol) != 0 :\n",
    "        k5 = statistics.mean(sclol[\"p_m2\"])\n",
    "    else :\n",
    "        niv_confidence = \"Faible, l'Ia connait pas cette ville\"\n",
    "        k5 = statistics.mean(df[\"p_m2\"])\n",
    "     \n",
    "    x = pd.DataFrame()\n",
    "    x.loc[0,\"type_de_bien\"] = f\"{k1}\"\n",
    "    x.loc[0,\"nb_de_pieces\"] = f\"{k2}\"\n",
    "    x.loc[0,\"surface\"] = f\"{k3}\"\n",
    "    x.loc[0,\"ville\"] = f\"{k4}\"\n",
    "    x.loc[0,\"p_m2\"] = f\"{k5}\"\n",
    "    print(\"-------------\")\n",
    "    sing_pred = model.predict(x)\n",
    "    sing_pred = np.exp(sing_pred)\n",
    "    print(\"-------------\")\n",
    "    print(f\"Confiance de la prediction : {niv_confidence}\")\n",
    "    print(\"Prix estimé \",int(sing_pred), \"€\")\n",
    "    \n",
    "    # sclol = df[df['ville'].isin([\"BORDEAUX\"])]\n",
    "    # k5 = statistics.mean(sclol[\"p_m2\"])\n",
    "\n",
    "    # print(\"---------\")\n",
    "\n",
    "    # Q1 = min(sclol[\"p_m2\"])\n",
    "    # print(Q1)\n",
    "    # Q2 = ((k5+Q1)/2)\n",
    "    # print(Q2)\n",
    "    # print(\"**********\")\n",
    "    # Q3 = k5\n",
    "    # print(Q3)\n",
    "    # print(\"**********\")\n",
    "    # Q5 = max(sclol[\"p_m2\"])\n",
    "    # Q4 = ((k5+Q5)/2)\n",
    "    # print(Q4)\n",
    "    # print(Q5)\n",
    "\n",
    "    # etat = \"Bon\"\n",
    "\n",
    "    # if etat == \"Mauvais\":\n",
    "    #     k5 = Q1\n",
    "    # elif etat == \"Moyen\":\n",
    "    #     k5 = Q2\n",
    "    # elif etat == \"Normal\":\n",
    "    #     k5 = Q3\n",
    "    # elif etat == \"Bon\":\n",
    "    #     k5 = Q4\n",
    "    # elif etat == \"Excelent\":\n",
    "    #     k5 = Q5\n",
    "\n",
    "\n",
    "    # print(\"^^^^^^^^^^\")\n",
    "    # print(k5)"
   ]
  },
  {
   "cell_type": "code",
   "execution_count": 51,
   "metadata": {},
   "outputs": [
    {
     "name": "stdout",
     "output_type": "stream",
     "text": [
      "Type de bien : maison ou appartement : appartement\n",
      "Nombre de pièces dans le logement : 2\n",
      "Combien de métres carrés : 35\n",
      "Dans quelle ville : BORDEAUX\n",
      "-------------\n",
      "-------------\n",
      "Confiance de la prediction : Forte\n",
      "Prix estimé  172573 €\n"
     ]
    }
   ],
   "source": [
    "singlePrediction()"
   ]
  },
  {
   "cell_type": "code",
   "execution_count": 52,
   "metadata": {},
   "outputs": [
    {
     "name": "stdout",
     "output_type": "stream",
     "text": [
      "Type de bien : maison ou appartement : maison\n",
      "Nombre de pièces dans le logement : 5\n",
      "Combien de métres carrés : 100\n",
      "Dans quelle ville : PORT STE FOY ET PONCHAPT\n",
      "-------------\n",
      "-------------\n",
      "Confiance de la prediction : Faible, l'Ia connait peut cette ville\n",
      "Prix estimé  89241 €\n"
     ]
    }
   ],
   "source": [
    "singlePrediction()"
   ]
  },
  {
   "cell_type": "markdown",
   "metadata": {},
   "source": [
    "# Verification de la gestion des erreurs d'input utilisateur"
   ]
  },
  {
   "cell_type": "raw",
   "metadata": {},
   "source": [
    "Test : le modèle fonctionne malgré les erreurs sur les q1 et q4"
   ]
  },
  {
   "cell_type": "code",
   "execution_count": 53,
   "metadata": {
    "scrolled": false
   },
   "outputs": [
    {
     "name": "stdout",
     "output_type": "stream",
     "text": [
      "Type de bien : maison ou appartement : je sais pas\n",
      "Nombre de pièces dans le logement : 8\n",
      "Combien de métres carrés : 739\n",
      "Dans quelle ville : n importe ou en gironde\n",
      "-------------\n",
      "-------------\n",
      "Confiance de la prediction : Faible, l'Ia connait pas cette ville\n",
      "Prix estimé  2314587 €\n"
     ]
    }
   ],
   "source": [
    "singlePrediction()"
   ]
  },
  {
   "cell_type": "markdown",
   "metadata": {},
   "source": [
    "# Evolution du Score du modèle en production"
   ]
  },
  {
   "cell_type": "markdown",
   "metadata": {},
   "source": [
    "# --V1--"
   ]
  },
  {
   "cell_type": "raw",
   "metadata": {},
   "source": [
    "RMSE :  186974.3624\n",
    "MAE :  103153.9151\n",
    "\n",
    "166 erreurs positive, 185 erreurs negative\n",
    "\n",
    "valeur du seuil :0.2\n",
    "il y'a 198 erreurs inférieurs à 0.2, il y'a 153 erreurs supérieurs à 0.2\n",
    "erreur sous seuil = 56.4103%\n",
    "\n",
    "valeur du seuil :0.1\n",
    "il y'a 115 erreurs inférieurs à 0.1, il y'a 236 erreurs supérieurs à 0.1\n",
    "erreur sous seuil = 32.7635%"
   ]
  },
  {
   "cell_type": "markdown",
   "metadata": {},
   "source": [
    "# --V2--"
   ]
  },
  {
   "cell_type": "raw",
   "metadata": {},
   "source": [
    "RMSE :  143957.6701\n",
    "MAE :  90220.8373\n",
    "\n",
    "176 erreurs positive, 174 erreurs negative, 0 prediction parfaite\n",
    "\n",
    "valeur du seuil :0.2\n",
    "il y'a 212 erreurs inférieurs à 0.2, il y'a 138 erreurs supérieurs à 0.2\n",
    "erreur sous seuil = 60.5714%\n",
    "\n",
    "valeur du seuil :0.1\n",
    "il y'a 113 erreurs inférieurs à 0.1, il y'a 237 erreurs supérieurs à 0.1\n",
    "erreur sous seuil = 32.2857%"
   ]
  },
  {
   "cell_type": "markdown",
   "metadata": {},
   "source": [
    "# --V3--"
   ]
  },
  {
   "cell_type": "raw",
   "metadata": {},
   "source": [
    "RMSE :  12025.5743\n",
    "MAE :  6968.3053\n",
    "\n",
    "On a 183 erreurs positive, 167 erreurs negative, 0 prediction parfaite\n",
    "\n",
    "valeur du seuil :0.1\n",
    "il y'a 350 erreurs inférieurs à 0.1, il y'a 0 erreurs supérieurs à 0.1\n",
    "erreur sous seuil = 100.0%"
   ]
  },
  {
   "cell_type": "code",
   "execution_count": null,
   "metadata": {},
   "outputs": [],
   "source": []
  }
 ],
 "metadata": {
  "hide_input": false,
  "kernelspec": {
   "display_name": "Python 3",
   "language": "python",
   "name": "python3"
  },
  "language_info": {
   "codemirror_mode": {
    "name": "ipython",
    "version": 3
   },
   "file_extension": ".py",
   "mimetype": "text/x-python",
   "name": "python",
   "nbconvert_exporter": "python",
   "pygments_lexer": "ipython3",
   "version": "3.7.0"
  },
  "nbTranslate": {
   "displayLangs": [
    "*"
   ],
   "hotkey": "alt-t",
   "langInMainMenu": true,
   "sourceLang": "en",
   "targetLang": "fr",
   "useGoogleTranslate": true
  },
  "varInspector": {
   "cols": {
    "lenName": 16,
    "lenType": 16,
    "lenVar": 40
   },
   "kernels_config": {
    "python": {
     "delete_cmd_postfix": "",
     "delete_cmd_prefix": "del ",
     "library": "var_list.py",
     "varRefreshCmd": "print(var_dic_list())"
    },
    "r": {
     "delete_cmd_postfix": ") ",
     "delete_cmd_prefix": "rm(",
     "library": "var_list.r",
     "varRefreshCmd": "cat(var_dic_list()) "
    }
   },
   "types_to_exclude": [
    "module",
    "function",
    "builtin_function_or_method",
    "instance",
    "_Feature"
   ],
   "window_display": false
  }
 },
 "nbformat": 4,
 "nbformat_minor": 2
}
