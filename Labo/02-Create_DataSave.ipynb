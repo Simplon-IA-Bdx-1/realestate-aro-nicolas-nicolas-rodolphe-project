{
 "cells": [
  {
   "cell_type": "code",
   "execution_count": 1,
   "metadata": {},
   "outputs": [],
   "source": [
    "import pandas as pd\n",
    "from joblib import load,dump\n",
    "import statistics"
   ]
  },
  {
   "cell_type": "code",
   "execution_count": 2,
   "metadata": {},
   "outputs": [],
   "source": [
    "################### Here we need to load Data used for creating model, if model was creates by insdustrialPipeline.py,\n",
    "################### extract data from bdd as csv first\n",
    "predf = pd.read_csv('Base_Files/house_ligth.csv', index_col =0) "
   ]
  },
  {
   "cell_type": "code",
   "execution_count": 3,
   "metadata": {},
   "outputs": [
    {
     "data": {
      "text/html": [
       "<div>\n",
       "<style scoped>\n",
       "    .dataframe tbody tr th:only-of-type {\n",
       "        vertical-align: middle;\n",
       "    }\n",
       "\n",
       "    .dataframe tbody tr th {\n",
       "        vertical-align: top;\n",
       "    }\n",
       "\n",
       "    .dataframe thead th {\n",
       "        text-align: right;\n",
       "    }\n",
       "</style>\n",
       "<table border=\"1\" class=\"dataframe\">\n",
       "  <thead>\n",
       "    <tr style=\"text-align: right;\">\n",
       "      <th></th>\n",
       "      <th>id</th>\n",
       "      <th>type_de_bien</th>\n",
       "      <th>année</th>\n",
       "      <th>nb_de_pieces</th>\n",
       "      <th>surface</th>\n",
       "      <th>ville</th>\n",
       "      <th>prix</th>\n",
       "    </tr>\n",
       "  </thead>\n",
       "  <tbody>\n",
       "    <tr>\n",
       "      <th>1349</th>\n",
       "      <td>2738</td>\n",
       "      <td>appartement</td>\n",
       "      <td>2006.0</td>\n",
       "      <td>3</td>\n",
       "      <td>41</td>\n",
       "      <td>LE VERDON SUR MER</td>\n",
       "      <td>95400</td>\n",
       "    </tr>\n",
       "    <tr>\n",
       "      <th>2846</th>\n",
       "      <td>2321</td>\n",
       "      <td>appartement</td>\n",
       "      <td>NaN</td>\n",
       "      <td>3</td>\n",
       "      <td>35</td>\n",
       "      <td>LE VERDON SUR MER</td>\n",
       "      <td>65000</td>\n",
       "    </tr>\n",
       "    <tr>\n",
       "      <th>2397</th>\n",
       "      <td>1407</td>\n",
       "      <td>maison</td>\n",
       "      <td>NaN</td>\n",
       "      <td>3</td>\n",
       "      <td>76</td>\n",
       "      <td>ARES</td>\n",
       "      <td>318000</td>\n",
       "    </tr>\n",
       "  </tbody>\n",
       "</table>\n",
       "</div>"
      ],
      "text/plain": [
       "        id type_de_bien   année  nb_de_pieces  surface               ville  \\\n",
       "1349  2738  appartement  2006.0             3       41   LE VERDON SUR MER   \n",
       "2846  2321  appartement     NaN             3       35   LE VERDON SUR MER   \n",
       "2397  1407       maison     NaN             3       76                ARES   \n",
       "\n",
       "        prix  \n",
       "1349   95400  \n",
       "2846   65000  \n",
       "2397  318000  "
      ]
     },
     "execution_count": 3,
     "metadata": {},
     "output_type": "execute_result"
    }
   ],
   "source": [
    "predf.sample(3)"
   ]
  },
  {
   "cell_type": "code",
   "execution_count": 4,
   "metadata": {},
   "outputs": [],
   "source": [
    "count = 0\n",
    "for i in predf[\"ville\"]:\n",
    "    predf.loc[count,\"p_m2\"] = predf.loc[count,\"prix\"]/predf.loc[count,\"surface\"]\n",
    "    count +=1"
   ]
  },
  {
   "cell_type": "code",
   "execution_count": 5,
   "metadata": {},
   "outputs": [
    {
     "data": {
      "text/html": [
       "<div>\n",
       "<style scoped>\n",
       "    .dataframe tbody tr th:only-of-type {\n",
       "        vertical-align: middle;\n",
       "    }\n",
       "\n",
       "    .dataframe tbody tr th {\n",
       "        vertical-align: top;\n",
       "    }\n",
       "\n",
       "    .dataframe thead th {\n",
       "        text-align: right;\n",
       "    }\n",
       "</style>\n",
       "<table border=\"1\" class=\"dataframe\">\n",
       "  <thead>\n",
       "    <tr style=\"text-align: right;\">\n",
       "      <th></th>\n",
       "      <th>id</th>\n",
       "      <th>type_de_bien</th>\n",
       "      <th>année</th>\n",
       "      <th>nb_de_pieces</th>\n",
       "      <th>surface</th>\n",
       "      <th>ville</th>\n",
       "      <th>prix</th>\n",
       "      <th>p_m2</th>\n",
       "    </tr>\n",
       "  </thead>\n",
       "  <tbody>\n",
       "    <tr>\n",
       "      <th>436</th>\n",
       "      <td>902</td>\n",
       "      <td>maison</td>\n",
       "      <td>1972.0</td>\n",
       "      <td>6</td>\n",
       "      <td>116</td>\n",
       "      <td>SABLONS</td>\n",
       "      <td>123000</td>\n",
       "      <td>1060.344828</td>\n",
       "    </tr>\n",
       "    <tr>\n",
       "      <th>2742</th>\n",
       "      <td>2106</td>\n",
       "      <td>maison</td>\n",
       "      <td>NaN</td>\n",
       "      <td>8</td>\n",
       "      <td>245</td>\n",
       "      <td>LIBOURNE</td>\n",
       "      <td>575000</td>\n",
       "      <td>2346.938776</td>\n",
       "    </tr>\n",
       "    <tr>\n",
       "      <th>1623</th>\n",
       "      <td>3378</td>\n",
       "      <td>maison</td>\n",
       "      <td>1976.0</td>\n",
       "      <td>6</td>\n",
       "      <td>125</td>\n",
       "      <td>GUJAN MESTRAS</td>\n",
       "      <td>445000</td>\n",
       "      <td>3560.000000</td>\n",
       "    </tr>\n",
       "  </tbody>\n",
       "</table>\n",
       "</div>"
      ],
      "text/plain": [
       "        id type_de_bien   année  nb_de_pieces  surface           ville  \\\n",
       "436    902       maison  1972.0             6      116         SABLONS   \n",
       "2742  2106       maison     NaN             8      245        LIBOURNE   \n",
       "1623  3378       maison  1976.0             6      125   GUJAN MESTRAS   \n",
       "\n",
       "        prix         p_m2  \n",
       "436   123000  1060.344828  \n",
       "2742  575000  2346.938776  \n",
       "1623  445000  3560.000000  "
      ]
     },
     "execution_count": 5,
     "metadata": {},
     "output_type": "execute_result"
    }
   ],
   "source": [
    "predf.sample(3)"
   ]
  },
  {
   "cell_type": "code",
   "execution_count": 6,
   "metadata": {},
   "outputs": [],
   "source": [
    "df = pd.DataFrame(predf, columns=[\"ville\",\"p_m2\"])"
   ]
  },
  {
   "cell_type": "code",
   "execution_count": 7,
   "metadata": {},
   "outputs": [],
   "source": [
    "df['ville'] = df['ville'].str.strip() #Correction du premier charactère == \" \"."
   ]
  },
  {
   "cell_type": "code",
   "execution_count": 8,
   "metadata": {},
   "outputs": [
    {
     "data": {
      "text/html": [
       "<div>\n",
       "<style scoped>\n",
       "    .dataframe tbody tr th:only-of-type {\n",
       "        vertical-align: middle;\n",
       "    }\n",
       "\n",
       "    .dataframe tbody tr th {\n",
       "        vertical-align: top;\n",
       "    }\n",
       "\n",
       "    .dataframe thead th {\n",
       "        text-align: right;\n",
       "    }\n",
       "</style>\n",
       "<table border=\"1\" class=\"dataframe\">\n",
       "  <thead>\n",
       "    <tr style=\"text-align: right;\">\n",
       "      <th></th>\n",
       "      <th>ville</th>\n",
       "      <th>p_m2</th>\n",
       "    </tr>\n",
       "  </thead>\n",
       "  <tbody>\n",
       "    <tr>\n",
       "      <th>297</th>\n",
       "      <td>LACANAU OCEAN</td>\n",
       "      <td>3133.333333</td>\n",
       "    </tr>\n",
       "    <tr>\n",
       "      <th>1832</th>\n",
       "      <td>BORDEAUX</td>\n",
       "      <td>4835.526316</td>\n",
       "    </tr>\n",
       "    <tr>\n",
       "      <th>555</th>\n",
       "      <td>ARCACHON</td>\n",
       "      <td>8115.625000</td>\n",
       "    </tr>\n",
       "  </tbody>\n",
       "</table>\n",
       "</div>"
      ],
      "text/plain": [
       "              ville         p_m2\n",
       "297   LACANAU OCEAN  3133.333333\n",
       "1832       BORDEAUX  4835.526316\n",
       "555        ARCACHON  8115.625000"
      ]
     },
     "execution_count": 8,
     "metadata": {},
     "output_type": "execute_result"
    }
   ],
   "source": [
    "df.sample(3)"
   ]
  },
  {
   "cell_type": "code",
   "execution_count": 9,
   "metadata": {},
   "outputs": [
    {
     "data": {
      "text/plain": [
       "['dataBrick_for_v3.joblib']"
      ]
     },
     "execution_count": 9,
     "metadata": {},
     "output_type": "execute_result"
    }
   ],
   "source": [
    "#### change number by model version before extract ####\n",
    "name_joblib = \"dataBrick_for_v3.joblib\"\n",
    "dump(df,name_joblib)"
   ]
  },
  {
   "cell_type": "markdown",
   "metadata": {},
   "source": [
    "# Testing the Joblib"
   ]
  },
  {
   "cell_type": "code",
   "execution_count": 10,
   "metadata": {},
   "outputs": [],
   "source": [
    "df = load(name_joblib)"
   ]
  },
  {
   "cell_type": "code",
   "execution_count": 11,
   "metadata": {},
   "outputs": [
    {
     "data": {
      "text/plain": [
       "pandas.core.frame.DataFrame"
      ]
     },
     "execution_count": 11,
     "metadata": {},
     "output_type": "execute_result"
    }
   ],
   "source": [
    "type(df)"
   ]
  },
  {
   "cell_type": "code",
   "execution_count": 12,
   "metadata": {},
   "outputs": [
    {
     "data": {
      "text/html": [
       "<div>\n",
       "<style scoped>\n",
       "    .dataframe tbody tr th:only-of-type {\n",
       "        vertical-align: middle;\n",
       "    }\n",
       "\n",
       "    .dataframe tbody tr th {\n",
       "        vertical-align: top;\n",
       "    }\n",
       "\n",
       "    .dataframe thead th {\n",
       "        text-align: right;\n",
       "    }\n",
       "</style>\n",
       "<table border=\"1\" class=\"dataframe\">\n",
       "  <thead>\n",
       "    <tr style=\"text-align: right;\">\n",
       "      <th></th>\n",
       "      <th>ville</th>\n",
       "      <th>p_m2</th>\n",
       "    </tr>\n",
       "  </thead>\n",
       "  <tbody>\n",
       "    <tr>\n",
       "      <th>941</th>\n",
       "      <td>ST ANDRE DE CUBZAC</td>\n",
       "      <td>1725.524476</td>\n",
       "    </tr>\n",
       "    <tr>\n",
       "      <th>370</th>\n",
       "      <td>PUYBARBAN</td>\n",
       "      <td>1543.750000</td>\n",
       "    </tr>\n",
       "    <tr>\n",
       "      <th>2829</th>\n",
       "      <td>BORDEAUX</td>\n",
       "      <td>4816.326531</td>\n",
       "    </tr>\n",
       "    <tr>\n",
       "      <th>3019</th>\n",
       "      <td>LA REOLE</td>\n",
       "      <td>915.740741</td>\n",
       "    </tr>\n",
       "    <tr>\n",
       "      <th>2790</th>\n",
       "      <td>BOULIAC</td>\n",
       "      <td>3918.750000</td>\n",
       "    </tr>\n",
       "  </tbody>\n",
       "</table>\n",
       "</div>"
      ],
      "text/plain": [
       "                   ville         p_m2\n",
       "941   ST ANDRE DE CUBZAC  1725.524476\n",
       "370            PUYBARBAN  1543.750000\n",
       "2829            BORDEAUX  4816.326531\n",
       "3019            LA REOLE   915.740741\n",
       "2790             BOULIAC  3918.750000"
      ]
     },
     "execution_count": 12,
     "metadata": {},
     "output_type": "execute_result"
    }
   ],
   "source": [
    "df.sample(5)"
   ]
  },
  {
   "cell_type": "code",
   "execution_count": 15,
   "metadata": {},
   "outputs": [],
   "source": [
    "def dataAn(input_ville):\n",
    "    \"\"\" pass here the request input for ville by user on api,\n",
    "    return input for p_m2 as k5 and niv_confidence as str to display on the ui\"\"\"\n",
    "    \n",
    "    df = load(\"dataBrick_for_v3.joblib\")\n",
    "    k4 = input_ville\n",
    "    sclol = df[df['ville'].isin([f\"{k4}\"])]\n",
    "    if len(sclol) < 4 :\n",
    "        niv_confidence = \"Faible, l'Ia connait peut cette ville\"\n",
    "    elif len(sclol) >3 and len(sclol) <10 : \n",
    "        niv_confidence = \"Normal, l'Ia connait cette ville, mais manque un peu d'information\"\n",
    "    elif len(sclol) >=10 : \n",
    "        niv_confidence = \"Forte, l'Ia connait bien cette ville\"\n",
    "\n",
    "    if len(sclol) != 0 :\n",
    "        k5 = statistics.mean(sclol[\"p_m2\"])\n",
    "    else :\n",
    "        niv_confidence = \"Faible, l'Ia connait pas cette ville\"\n",
    "        k5 = statistics.mean(df[\"p_m2\"])\n",
    "        \n",
    "    return k5, niv_confidence    \n",
    "\n",
    "    "
   ]
  },
  {
   "cell_type": "code",
   "execution_count": 16,
   "metadata": {},
   "outputs": [],
   "source": [
    "info1, info2 = dataAn(\"BORDEAUX\") ### attention ici l'espace devant la ville est pas géré ds la pipeline oui."
   ]
  },
  {
   "cell_type": "code",
   "execution_count": 17,
   "metadata": {},
   "outputs": [
    {
     "name": "stdout",
     "output_type": "stream",
     "text": [
      "4892.197159764299\n",
      "Forte, l'Ia connait bien cette ville\n"
     ]
    }
   ],
   "source": [
    "print(info1) ## this print is jut for example don't display it on UI\n",
    "print(info2)"
   ]
  },
  {
   "cell_type": "code",
   "execution_count": 20,
   "metadata": {},
   "outputs": [
    {
     "data": {
      "text/html": [
       "<div>\n",
       "<style scoped>\n",
       "    .dataframe tbody tr th:only-of-type {\n",
       "        vertical-align: middle;\n",
       "    }\n",
       "\n",
       "    .dataframe tbody tr th {\n",
       "        vertical-align: top;\n",
       "    }\n",
       "\n",
       "    .dataframe thead th {\n",
       "        text-align: right;\n",
       "    }\n",
       "</style>\n",
       "<table border=\"1\" class=\"dataframe\">\n",
       "  <thead>\n",
       "    <tr style=\"text-align: right;\">\n",
       "      <th></th>\n",
       "      <th>ville</th>\n",
       "      <th>p_m2</th>\n",
       "    </tr>\n",
       "  </thead>\n",
       "  <tbody>\n",
       "    <tr>\n",
       "      <th>677</th>\n",
       "      <td>LE HAILLAN</td>\n",
       "      <td>3671.140940</td>\n",
       "    </tr>\n",
       "    <tr>\n",
       "      <th>741</th>\n",
       "      <td>LE HAILLAN</td>\n",
       "      <td>4666.666667</td>\n",
       "    </tr>\n",
       "    <tr>\n",
       "      <th>917</th>\n",
       "      <td>LE HAILLAN</td>\n",
       "      <td>2954.000000</td>\n",
       "    </tr>\n",
       "    <tr>\n",
       "      <th>1127</th>\n",
       "      <td>LE HAILLAN</td>\n",
       "      <td>2792.592593</td>\n",
       "    </tr>\n",
       "    <tr>\n",
       "      <th>1510</th>\n",
       "      <td>LE HAILLAN</td>\n",
       "      <td>3844.491525</td>\n",
       "    </tr>\n",
       "    <tr>\n",
       "      <th>1707</th>\n",
       "      <td>LE HAILLAN</td>\n",
       "      <td>3579.545455</td>\n",
       "    </tr>\n",
       "    <tr>\n",
       "      <th>1726</th>\n",
       "      <td>LE HAILLAN</td>\n",
       "      <td>3604.651163</td>\n",
       "    </tr>\n",
       "    <tr>\n",
       "      <th>1858</th>\n",
       "      <td>LE HAILLAN</td>\n",
       "      <td>3636.809816</td>\n",
       "    </tr>\n",
       "    <tr>\n",
       "      <th>2131</th>\n",
       "      <td>LE HAILLAN</td>\n",
       "      <td>3927.350427</td>\n",
       "    </tr>\n",
       "    <tr>\n",
       "      <th>2448</th>\n",
       "      <td>LE HAILLAN</td>\n",
       "      <td>3522.727273</td>\n",
       "    </tr>\n",
       "    <tr>\n",
       "      <th>2460</th>\n",
       "      <td>LE HAILLAN</td>\n",
       "      <td>3023.809524</td>\n",
       "    </tr>\n",
       "    <tr>\n",
       "      <th>3446</th>\n",
       "      <td>LE HAILLAN</td>\n",
       "      <td>3611.445783</td>\n",
       "    </tr>\n",
       "  </tbody>\n",
       "</table>\n",
       "</div>"
      ],
      "text/plain": [
       "           ville         p_m2\n",
       "677   LE HAILLAN  3671.140940\n",
       "741   LE HAILLAN  4666.666667\n",
       "917   LE HAILLAN  2954.000000\n",
       "1127  LE HAILLAN  2792.592593\n",
       "1510  LE HAILLAN  3844.491525\n",
       "1707  LE HAILLAN  3579.545455\n",
       "1726  LE HAILLAN  3604.651163\n",
       "1858  LE HAILLAN  3636.809816\n",
       "2131  LE HAILLAN  3927.350427\n",
       "2448  LE HAILLAN  3522.727273\n",
       "2460  LE HAILLAN  3023.809524\n",
       "3446  LE HAILLAN  3611.445783"
      ]
     },
     "execution_count": 20,
     "metadata": {},
     "output_type": "execute_result"
    }
   ],
   "source": [
    "sclol = df[df['ville'].isin([\"LE HAILLAN\"])]\n",
    "sclol"
   ]
  },
  {
   "cell_type": "code",
   "execution_count": null,
   "metadata": {},
   "outputs": [],
   "source": []
  }
 ],
 "metadata": {
  "kernelspec": {
   "display_name": "Python 3",
   "language": "python",
   "name": "python3"
  },
  "language_info": {
   "codemirror_mode": {
    "name": "ipython",
    "version": 3
   },
   "file_extension": ".py",
   "mimetype": "text/x-python",
   "name": "python",
   "nbconvert_exporter": "python",
   "pygments_lexer": "ipython3",
   "version": "3.7.0"
  }
 },
 "nbformat": 4,
 "nbformat_minor": 4
}
