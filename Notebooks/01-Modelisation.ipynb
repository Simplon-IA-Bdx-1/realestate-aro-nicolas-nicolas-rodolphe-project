{
 "cells": [
  {
   "cell_type": "code",
   "execution_count": 1,
   "metadata": {},
   "outputs": [
    {
     "data": {
      "application/javascript": [
       "IPython.notebook.set_autosave_interval(0)"
      ]
     },
     "metadata": {},
     "output_type": "display_data"
    },
    {
     "name": "stdout",
     "output_type": "stream",
     "text": [
      "Autosave disabled\n"
     ]
    }
   ],
   "source": [
    "%autosave 0\n",
    "import pandas as pd\n",
    "import numpy as np\n",
    "\n",
    "import matplotlib.pyplot as plt\n",
    "import seaborn as sns\n",
    "\n",
    "from sklearn.preprocessing import OneHotEncoder, PolynomialFeatures, StandardScaler\n",
    "from sklearn.model_selection import train_test_split, GridSearchCV\n",
    "\n",
    "from sklearn.pipeline import Pipeline\n",
    "from sklearn.compose import ColumnTransformer\n",
    "\n",
    "from sklearn.metrics import mean_squared_error as MSE\n",
    "from sklearn.metrics import mean_absolute_error as MAE\n",
    "\n",
    "import xgboost\n",
    "\n",
    "from alys import regression as ALYR\n",
    "from joblib import dump\n",
    "\n",
    "import warnings\n",
    "warnings.filterwarnings(\"ignore\") "
   ]
  },
  {
   "cell_type": "markdown",
   "metadata": {},
   "source": [
    "# Contexte"
   ]
  },
  {
   "cell_type": "code",
   "execution_count": 2,
   "metadata": {},
   "outputs": [],
   "source": [
    "mod_full = False # Active le fichier de scrap si on passe sur True = le fichier de scrap + celui traité par Aro sur gouv\n",
    "look_for_opti = False # Active gridsearch"
   ]
  },
  {
   "cell_type": "code",
   "execution_count": 3,
   "metadata": {},
   "outputs": [],
   "source": [
    "if mod_full:\n",
    "    df = pd.read_csv('Base_Files/house_full.csv', index_col =0)\n",
    "else :    \n",
    "    df = pd.read_csv('Base_Files/house_ligth.csv', index_col =0)"
   ]
  },
  {
   "cell_type": "markdown",
   "metadata": {},
   "source": [
    "# Visualisation des données"
   ]
  },
  {
   "cell_type": "code",
   "execution_count": 4,
   "metadata": {},
   "outputs": [
    {
     "name": "stdout",
     "output_type": "stream",
     "text": [
      "<class 'pandas.core.frame.DataFrame'>\n",
      "Int64Index: 3505 entries, 0 to 1817\n",
      "Data columns (total 7 columns):\n",
      "id              3505 non-null int64\n",
      "type_de_bien    3505 non-null object\n",
      "année           1687 non-null float64\n",
      "nb_de_pieces    3505 non-null int64\n",
      "surface         3505 non-null int64\n",
      "ville           3505 non-null object\n",
      "prix            3505 non-null int64\n",
      "dtypes: float64(1), int64(4), object(2)\n",
      "memory usage: 219.1+ KB\n"
     ]
    }
   ],
   "source": [
    "df.info()"
   ]
  },
  {
   "cell_type": "code",
   "execution_count": 5,
   "metadata": {},
   "outputs": [
    {
     "data": {
      "text/html": [
       "<div>\n",
       "<style scoped>\n",
       "    .dataframe tbody tr th:only-of-type {\n",
       "        vertical-align: middle;\n",
       "    }\n",
       "\n",
       "    .dataframe tbody tr th {\n",
       "        vertical-align: top;\n",
       "    }\n",
       "\n",
       "    .dataframe thead th {\n",
       "        text-align: right;\n",
       "    }\n",
       "</style>\n",
       "<table border=\"1\" class=\"dataframe\">\n",
       "  <thead>\n",
       "    <tr style=\"text-align: right;\">\n",
       "      <th></th>\n",
       "      <th>Total</th>\n",
       "      <th>Null_Count</th>\n",
       "      <th>Percent</th>\n",
       "    </tr>\n",
       "  </thead>\n",
       "  <tbody>\n",
       "    <tr>\n",
       "      <td>année</td>\n",
       "      <td>3505</td>\n",
       "      <td>1818</td>\n",
       "      <td>51.87</td>\n",
       "    </tr>\n",
       "  </tbody>\n",
       "</table>\n",
       "</div>"
      ],
      "text/plain": [
       "       Total  Null_Count  Percent\n",
       "année   3505        1818    51.87"
      ]
     },
     "execution_count": 5,
     "metadata": {},
     "output_type": "execute_result"
    }
   ],
   "source": [
    "def null_values(df):\n",
    "    \n",
    "    sum_null = df.isnull().sum()\n",
    "    total = df.isnull().count()\n",
    "    percent_nullvalues = 100* sum_null / total \n",
    "    df_null = pd.DataFrame()\n",
    "    df_null['Total'] = total\n",
    "    df_null['Null_Count'] = sum_null\n",
    "    df_null['Percent'] = round(percent_nullvalues,2)\n",
    "    df_null = df_null.sort_values(by='Null_Count',ascending = False)\n",
    "    df_null = df_null[df_null.Null_Count > 0]\n",
    "    \n",
    "    return(df_null)\n",
    "\n",
    "null_values(df)"
   ]
  },
  {
   "cell_type": "code",
   "execution_count": 6,
   "metadata": {},
   "outputs": [],
   "source": [
    "df = df.drop(['id','année'], axis=1)"
   ]
  },
  {
   "cell_type": "code",
   "execution_count": 7,
   "metadata": {},
   "outputs": [],
   "source": [
    "df['ville'] = df['ville'].str.strip() #Correction du premier charactère == \" \"."
   ]
  },
  {
   "cell_type": "code",
   "execution_count": 8,
   "metadata": {},
   "outputs": [
    {
     "data": {
      "text/plain": [
       "<matplotlib.axes._subplots.AxesSubplot at 0x7ffb1f01b7b8>"
      ]
     },
     "execution_count": 8,
     "metadata": {},
     "output_type": "execute_result"
    },
    {
     "data": {
      "image/png": "[encoded data removed]",
      "text/plain": [
       "<Figure size 432x288 with 1 Axes>"
      ]
     },
     "metadata": {},
     "output_type": "display_data"
    }
   ],
   "source": [
    "sns.set(style=\"dark\", palette=\"muted\", font='DejaVu Sans', font_scale=1, color_codes=True)\n",
    "sns.scatterplot(x=\"surface\", y=\"prix\", hue=\"type_de_bien\", data=df)"
   ]
  },
  {
   "cell_type": "code",
   "execution_count": 9,
   "metadata": {},
   "outputs": [
    {
     "data": {
      "text/plain": [
       "<matplotlib.axes._subplots.AxesSubplot at 0x7ffb1b617320>"
      ]
     },
     "execution_count": 9,
     "metadata": {},
     "output_type": "execute_result"
    },
    {
     "data": {
      "image/png": "[encoded data removed]",
      "text/plain": [
       "<Figure size 432x288 with 1 Axes>"
      ]
     },
     "metadata": {},
     "output_type": "display_data"
    }
   ],
   "source": [
    "sns.set(style=\"dark\", palette=\"muted\", font='DejaVu Sans', font_scale=1, color_codes=True)\n",
    "sns.scatterplot(x=\"nb_de_pieces\", y=\"prix\", hue=\"type_de_bien\", data=df)"
   ]
  },
  {
   "cell_type": "code",
   "execution_count": 10,
   "metadata": {},
   "outputs": [
    {
     "data": {
      "text/plain": [
       "<seaborn.axisgrid.FacetGrid at 0x7ffb1af01f28>"
      ]
     },
     "execution_count": 10,
     "metadata": {},
     "output_type": "execute_result"
    },
    {
     "data": {
      "image/png": "[encoded data removed]",
      "text/plain": [
       "<Figure size 360x360 with 1 Axes>"
      ]
     },
     "metadata": {},
     "output_type": "display_data"
    }
   ],
   "source": [
    "sns.catplot(x='type_de_bien',y='prix',data=df ,hue='type_de_bien')"
   ]
  },
  {
   "cell_type": "code",
   "execution_count": 11,
   "metadata": {},
   "outputs": [
    {
     "data": {
      "text/plain": [
       "<matplotlib.axes._subplots.AxesSubplot at 0x7ffb1aef1ef0>"
      ]
     },
     "execution_count": 11,
     "metadata": {},
     "output_type": "execute_result"
    },
    {
     "data": {
      "image/png": "[encoded data removed]",
      "text/plain": [
       "<Figure size 360x360 with 1 Axes>"
      ]
     },
     "metadata": {},
     "output_type": "display_data"
    }
   ],
   "source": [
    "df['type_de_bien'].value_counts().head(2).plot(kind='barh', figsize=(5,5))"
   ]
  },
  {
   "cell_type": "code",
   "execution_count": 12,
   "metadata": {},
   "outputs": [
    {
     "data": {
      "text/plain": [
       "<matplotlib.axes._subplots.AxesSubplot at 0x7ffb1ae72d68>"
      ]
     },
     "execution_count": 12,
     "metadata": {},
     "output_type": "execute_result"
    },
    {
     "data": {
      "image/png": "[encoded data removed]",
      "text/plain": [
       "<Figure size 720x1440 with 1 Axes>"
      ]
     },
     "metadata": {},
     "output_type": "display_data"
    }
   ],
   "source": [
    "df['ville'].value_counts().head(50).plot(kind='barh', figsize=(10,20))"
   ]
  },
  {
   "cell_type": "code",
   "execution_count": 13,
   "metadata": {
    "scrolled": true
   },
   "outputs": [],
   "source": [
    "# x = df.groupby('ville').agg(['count'])\n",
    "\n",
    "# count=0\n",
    "# vill_mal_rep = []\n",
    "\n",
    "# for ele in x['prix', 'count'] :\n",
    "#     if ele < 3 :\n",
    "#         vill_mal_rep.append(x.index[count])\n",
    "#     count += 1 \n",
    "    \n",
    "# # Liste des villes représentées 1 ou 2 fois dans le df     \n",
    "# vill_mal_rep"
   ]
  },
  {
   "cell_type": "markdown",
   "metadata": {},
   "source": [
    "# Suppression des outliers"
   ]
  },
  {
   "cell_type": "markdown",
   "metadata": {},
   "source": [
    "A l'aide des visualisations, je fais le lien avec les index a drop"
   ]
  },
  {
   "cell_type": "code",
   "execution_count": 14,
   "metadata": {},
   "outputs": [
    {
     "data": {
      "text/html": [
       "<div>\n",
       "<style scoped>\n",
       "    .dataframe tbody tr th:only-of-type {\n",
       "        vertical-align: middle;\n",
       "    }\n",
       "\n",
       "    .dataframe tbody tr th {\n",
       "        vertical-align: top;\n",
       "    }\n",
       "\n",
       "    .dataframe thead th {\n",
       "        text-align: right;\n",
       "    }\n",
       "</style>\n",
       "<table border=\"1\" class=\"dataframe\">\n",
       "  <thead>\n",
       "    <tr style=\"text-align: right;\">\n",
       "      <th></th>\n",
       "      <th>type_de_bien</th>\n",
       "      <th>nb_de_pieces</th>\n",
       "      <th>surface</th>\n",
       "      <th>ville</th>\n",
       "      <th>prix</th>\n",
       "    </tr>\n",
       "  </thead>\n",
       "  <tbody>\n",
       "    <tr>\n",
       "      <td>1155</td>\n",
       "      <td>maison</td>\n",
       "      <td>16</td>\n",
       "      <td>500</td>\n",
       "      <td>BORDEAUX</td>\n",
       "      <td>8925000</td>\n",
       "    </tr>\n",
       "    <tr>\n",
       "      <td>1480</td>\n",
       "      <td>maison</td>\n",
       "      <td>15</td>\n",
       "      <td>1830</td>\n",
       "      <td>BORDEAUX</td>\n",
       "      <td>8900000</td>\n",
       "    </tr>\n",
       "    <tr>\n",
       "      <td>1337</td>\n",
       "      <td>maison</td>\n",
       "      <td>5</td>\n",
       "      <td>700</td>\n",
       "      <td>ARCACHON</td>\n",
       "      <td>5956500</td>\n",
       "    </tr>\n",
       "    <tr>\n",
       "      <td>1215</td>\n",
       "      <td>maison</td>\n",
       "      <td>9</td>\n",
       "      <td>700</td>\n",
       "      <td>ARCACHON</td>\n",
       "      <td>5950000</td>\n",
       "    </tr>\n",
       "    <tr>\n",
       "      <td>383</td>\n",
       "      <td>maison</td>\n",
       "      <td>15</td>\n",
       "      <td>650</td>\n",
       "      <td>ARCACHON</td>\n",
       "      <td>5950000</td>\n",
       "    </tr>\n",
       "    <tr>\n",
       "      <td>1598</td>\n",
       "      <td>maison</td>\n",
       "      <td>12</td>\n",
       "      <td>400</td>\n",
       "      <td>BORDEAUX</td>\n",
       "      <td>3780000</td>\n",
       "    </tr>\n",
       "    <tr>\n",
       "      <td>892</td>\n",
       "      <td>maison</td>\n",
       "      <td>9</td>\n",
       "      <td>650</td>\n",
       "      <td>BORDEAUX</td>\n",
       "      <td>3360000</td>\n",
       "    </tr>\n",
       "    <tr>\n",
       "      <td>344</td>\n",
       "      <td>maison</td>\n",
       "      <td>12</td>\n",
       "      <td>340</td>\n",
       "      <td>ARCACHON</td>\n",
       "      <td>3280000</td>\n",
       "    </tr>\n",
       "    <tr>\n",
       "      <td>1472</td>\n",
       "      <td>maison</td>\n",
       "      <td>7</td>\n",
       "      <td>389</td>\n",
       "      <td>ARCACHON</td>\n",
       "      <td>3065000</td>\n",
       "    </tr>\n",
       "    <tr>\n",
       "      <td>74</td>\n",
       "      <td>maison</td>\n",
       "      <td>11</td>\n",
       "      <td>520</td>\n",
       "      <td>LE BOUSCAT</td>\n",
       "      <td>2987000</td>\n",
       "    </tr>\n",
       "  </tbody>\n",
       "</table>\n",
       "</div>"
      ],
      "text/plain": [
       "     type_de_bien  nb_de_pieces  surface       ville     prix\n",
       "1155       maison            16      500    BORDEAUX  8925000\n",
       "1480       maison            15     1830    BORDEAUX  8900000\n",
       "1337       maison             5      700    ARCACHON  5956500\n",
       "1215       maison             9      700    ARCACHON  5950000\n",
       "383        maison            15      650    ARCACHON  5950000\n",
       "1598       maison            12      400    BORDEAUX  3780000\n",
       "892        maison             9      650    BORDEAUX  3360000\n",
       "344        maison            12      340    ARCACHON  3280000\n",
       "1472       maison             7      389    ARCACHON  3065000\n",
       "74         maison            11      520  LE BOUSCAT  2987000"
      ]
     },
     "execution_count": 14,
     "metadata": {},
     "output_type": "execute_result"
    }
   ],
   "source": [
    "df.sort_values(\"prix\", axis = 0, ascending = False).head(10)"
   ]
  },
  {
   "cell_type": "code",
   "execution_count": 15,
   "metadata": {},
   "outputs": [
    {
     "data": {
      "text/html": [
       "<div>\n",
       "<style scoped>\n",
       "    .dataframe tbody tr th:only-of-type {\n",
       "        vertical-align: middle;\n",
       "    }\n",
       "\n",
       "    .dataframe tbody tr th {\n",
       "        vertical-align: top;\n",
       "    }\n",
       "\n",
       "    .dataframe thead th {\n",
       "        text-align: right;\n",
       "    }\n",
       "</style>\n",
       "<table border=\"1\" class=\"dataframe\">\n",
       "  <thead>\n",
       "    <tr style=\"text-align: right;\">\n",
       "      <th></th>\n",
       "      <th>type_de_bien</th>\n",
       "      <th>nb_de_pieces</th>\n",
       "      <th>surface</th>\n",
       "      <th>ville</th>\n",
       "      <th>prix</th>\n",
       "    </tr>\n",
       "  </thead>\n",
       "  <tbody>\n",
       "    <tr>\n",
       "      <td>1480</td>\n",
       "      <td>maison</td>\n",
       "      <td>15</td>\n",
       "      <td>1830</td>\n",
       "      <td>BORDEAUX</td>\n",
       "      <td>8900000</td>\n",
       "    </tr>\n",
       "    <tr>\n",
       "      <td>269</td>\n",
       "      <td>maison</td>\n",
       "      <td>8</td>\n",
       "      <td>1634</td>\n",
       "      <td>SALLES</td>\n",
       "      <td>987000</td>\n",
       "    </tr>\n",
       "    <tr>\n",
       "      <td>1590</td>\n",
       "      <td>maison</td>\n",
       "      <td>20</td>\n",
       "      <td>1300</td>\n",
       "      <td>CASSEUIL</td>\n",
       "      <td>2080000</td>\n",
       "    </tr>\n",
       "    <tr>\n",
       "      <td>1378</td>\n",
       "      <td>maison</td>\n",
       "      <td>5</td>\n",
       "      <td>1135</td>\n",
       "      <td>LACANAU OCEAN</td>\n",
       "      <td>728000</td>\n",
       "    </tr>\n",
       "    <tr>\n",
       "      <td>1626</td>\n",
       "      <td>maison</td>\n",
       "      <td>25</td>\n",
       "      <td>1000</td>\n",
       "      <td>BORDEAUX</td>\n",
       "      <td>2650000</td>\n",
       "    </tr>\n",
       "    <tr>\n",
       "      <td>404</td>\n",
       "      <td>maison</td>\n",
       "      <td>25</td>\n",
       "      <td>1000</td>\n",
       "      <td>BORDEAUX</td>\n",
       "      <td>2650000</td>\n",
       "    </tr>\n",
       "    <tr>\n",
       "      <td>403</td>\n",
       "      <td>maison</td>\n",
       "      <td>25</td>\n",
       "      <td>1000</td>\n",
       "      <td>BLAYE</td>\n",
       "      <td>2650000</td>\n",
       "    </tr>\n",
       "    <tr>\n",
       "      <td>1319</td>\n",
       "      <td>maison</td>\n",
       "      <td>14</td>\n",
       "      <td>988</td>\n",
       "      <td>ARVEYRES</td>\n",
       "      <td>1272000</td>\n",
       "    </tr>\n",
       "    <tr>\n",
       "      <td>636</td>\n",
       "      <td>maison</td>\n",
       "      <td>20</td>\n",
       "      <td>960</td>\n",
       "      <td>BORDEAUX</td>\n",
       "      <td>1050000</td>\n",
       "    </tr>\n",
       "    <tr>\n",
       "      <td>198</td>\n",
       "      <td>maison</td>\n",
       "      <td>18</td>\n",
       "      <td>820</td>\n",
       "      <td>BORDEAUX</td>\n",
       "      <td>2080000</td>\n",
       "    </tr>\n",
       "  </tbody>\n",
       "</table>\n",
       "</div>"
      ],
      "text/plain": [
       "     type_de_bien  nb_de_pieces  surface          ville     prix\n",
       "1480       maison            15     1830       BORDEAUX  8900000\n",
       "269        maison             8     1634         SALLES   987000\n",
       "1590       maison            20     1300       CASSEUIL  2080000\n",
       "1378       maison             5     1135  LACANAU OCEAN   728000\n",
       "1626       maison            25     1000       BORDEAUX  2650000\n",
       "404        maison            25     1000       BORDEAUX  2650000\n",
       "403        maison            25     1000          BLAYE  2650000\n",
       "1319       maison            14      988       ARVEYRES  1272000\n",
       "636        maison            20      960       BORDEAUX  1050000\n",
       "198        maison            18      820       BORDEAUX  2080000"
      ]
     },
     "execution_count": 15,
     "metadata": {},
     "output_type": "execute_result"
    }
   ],
   "source": [
    "df.sort_values(\"surface\", axis = 0, ascending = False).head(10)"
   ]
  },
  {
   "cell_type": "code",
   "execution_count": 16,
   "metadata": {},
   "outputs": [
    {
     "data": {
      "text/html": [
       "<div>\n",
       "<style scoped>\n",
       "    .dataframe tbody tr th:only-of-type {\n",
       "        vertical-align: middle;\n",
       "    }\n",
       "\n",
       "    .dataframe tbody tr th {\n",
       "        vertical-align: top;\n",
       "    }\n",
       "\n",
       "    .dataframe thead th {\n",
       "        text-align: right;\n",
       "    }\n",
       "</style>\n",
       "<table border=\"1\" class=\"dataframe\">\n",
       "  <thead>\n",
       "    <tr style=\"text-align: right;\">\n",
       "      <th></th>\n",
       "      <th>type_de_bien</th>\n",
       "      <th>nb_de_pieces</th>\n",
       "      <th>surface</th>\n",
       "      <th>ville</th>\n",
       "      <th>prix</th>\n",
       "    </tr>\n",
       "  </thead>\n",
       "  <tbody>\n",
       "    <tr>\n",
       "      <td>404</td>\n",
       "      <td>maison</td>\n",
       "      <td>25</td>\n",
       "      <td>1000</td>\n",
       "      <td>BORDEAUX</td>\n",
       "      <td>2650000</td>\n",
       "    </tr>\n",
       "    <tr>\n",
       "      <td>403</td>\n",
       "      <td>maison</td>\n",
       "      <td>25</td>\n",
       "      <td>1000</td>\n",
       "      <td>BLAYE</td>\n",
       "      <td>2650000</td>\n",
       "    </tr>\n",
       "    <tr>\n",
       "      <td>1626</td>\n",
       "      <td>maison</td>\n",
       "      <td>25</td>\n",
       "      <td>1000</td>\n",
       "      <td>BORDEAUX</td>\n",
       "      <td>2650000</td>\n",
       "    </tr>\n",
       "    <tr>\n",
       "      <td>636</td>\n",
       "      <td>maison</td>\n",
       "      <td>20</td>\n",
       "      <td>960</td>\n",
       "      <td>BORDEAUX</td>\n",
       "      <td>1050000</td>\n",
       "    </tr>\n",
       "    <tr>\n",
       "      <td>518</td>\n",
       "      <td>maison</td>\n",
       "      <td>20</td>\n",
       "      <td>540</td>\n",
       "      <td>PUGNAC</td>\n",
       "      <td>420000</td>\n",
       "    </tr>\n",
       "    <tr>\n",
       "      <td>1590</td>\n",
       "      <td>maison</td>\n",
       "      <td>20</td>\n",
       "      <td>1300</td>\n",
       "      <td>CASSEUIL</td>\n",
       "      <td>2080000</td>\n",
       "    </tr>\n",
       "    <tr>\n",
       "      <td>517</td>\n",
       "      <td>maison</td>\n",
       "      <td>20</td>\n",
       "      <td>540</td>\n",
       "      <td>ST CHRISTOLY DE BLAYE</td>\n",
       "      <td>420000</td>\n",
       "    </tr>\n",
       "    <tr>\n",
       "      <td>1288</td>\n",
       "      <td>maison</td>\n",
       "      <td>19</td>\n",
       "      <td>575</td>\n",
       "      <td>LIBOURNE</td>\n",
       "      <td>680000</td>\n",
       "    </tr>\n",
       "    <tr>\n",
       "      <td>712</td>\n",
       "      <td>maison</td>\n",
       "      <td>19</td>\n",
       "      <td>715</td>\n",
       "      <td>BORDEAUX</td>\n",
       "      <td>840000</td>\n",
       "    </tr>\n",
       "    <tr>\n",
       "      <td>711</td>\n",
       "      <td>maison</td>\n",
       "      <td>18</td>\n",
       "      <td>400</td>\n",
       "      <td>LIBOURNE</td>\n",
       "      <td>945000</td>\n",
       "    </tr>\n",
       "  </tbody>\n",
       "</table>\n",
       "</div>"
      ],
      "text/plain": [
       "     type_de_bien  nb_de_pieces  surface                  ville     prix\n",
       "404        maison            25     1000               BORDEAUX  2650000\n",
       "403        maison            25     1000                  BLAYE  2650000\n",
       "1626       maison            25     1000               BORDEAUX  2650000\n",
       "636        maison            20      960               BORDEAUX  1050000\n",
       "518        maison            20      540                 PUGNAC   420000\n",
       "1590       maison            20     1300               CASSEUIL  2080000\n",
       "517        maison            20      540  ST CHRISTOLY DE BLAYE   420000\n",
       "1288       maison            19      575               LIBOURNE   680000\n",
       "712        maison            19      715               BORDEAUX   840000\n",
       "711        maison            18      400               LIBOURNE   945000"
      ]
     },
     "execution_count": 16,
     "metadata": {},
     "output_type": "execute_result"
    }
   ],
   "source": [
    "df.sort_values(\"nb_de_pieces\", axis = 0, ascending = False).head(10)"
   ]
  },
  {
   "cell_type": "code",
   "execution_count": 17,
   "metadata": {},
   "outputs": [
    {
     "data": {
      "text/html": [
       "<div>\n",
       "<style scoped>\n",
       "    .dataframe tbody tr th:only-of-type {\n",
       "        vertical-align: middle;\n",
       "    }\n",
       "\n",
       "    .dataframe tbody tr th {\n",
       "        vertical-align: top;\n",
       "    }\n",
       "\n",
       "    .dataframe thead th {\n",
       "        text-align: right;\n",
       "    }\n",
       "</style>\n",
       "<table border=\"1\" class=\"dataframe\">\n",
       "  <thead>\n",
       "    <tr style=\"text-align: right;\">\n",
       "      <th></th>\n",
       "      <th>type_de_bien</th>\n",
       "      <th>nb_de_pieces</th>\n",
       "      <th>surface</th>\n",
       "      <th>ville</th>\n",
       "      <th>prix</th>\n",
       "    </tr>\n",
       "  </thead>\n",
       "  <tbody>\n",
       "    <tr>\n",
       "      <td>766</td>\n",
       "      <td>maison</td>\n",
       "      <td>3</td>\n",
       "      <td>40</td>\n",
       "      <td>RAUZAN</td>\n",
       "      <td>28500</td>\n",
       "    </tr>\n",
       "    <tr>\n",
       "      <td>126</td>\n",
       "      <td>maison</td>\n",
       "      <td>3</td>\n",
       "      <td>68</td>\n",
       "      <td>RAUZAN</td>\n",
       "      <td>38500</td>\n",
       "    </tr>\n",
       "    <tr>\n",
       "      <td>1624</td>\n",
       "      <td>maison</td>\n",
       "      <td>2</td>\n",
       "      <td>41</td>\n",
       "      <td>VILLENEUVE</td>\n",
       "      <td>40000</td>\n",
       "    </tr>\n",
       "    <tr>\n",
       "      <td>258</td>\n",
       "      <td>maison</td>\n",
       "      <td>3</td>\n",
       "      <td>87</td>\n",
       "      <td>ST YZANS DE MEDOC</td>\n",
       "      <td>40000</td>\n",
       "    </tr>\n",
       "    <tr>\n",
       "      <td>230</td>\n",
       "      <td>maison</td>\n",
       "      <td>2</td>\n",
       "      <td>30</td>\n",
       "      <td>AUROS</td>\n",
       "      <td>45000</td>\n",
       "    </tr>\n",
       "    <tr>\n",
       "      <td>669</td>\n",
       "      <td>appartement</td>\n",
       "      <td>2</td>\n",
       "      <td>36</td>\n",
       "      <td>BLAYE</td>\n",
       "      <td>48000</td>\n",
       "    </tr>\n",
       "    <tr>\n",
       "      <td>52</td>\n",
       "      <td>appartement</td>\n",
       "      <td>2</td>\n",
       "      <td>50</td>\n",
       "      <td>CARTELEGUE</td>\n",
       "      <td>48000</td>\n",
       "    </tr>\n",
       "    <tr>\n",
       "      <td>1583</td>\n",
       "      <td>maison</td>\n",
       "      <td>4</td>\n",
       "      <td>97</td>\n",
       "      <td>STE FOY LA GRANDE</td>\n",
       "      <td>49000</td>\n",
       "    </tr>\n",
       "    <tr>\n",
       "      <td>1801</td>\n",
       "      <td>appartement</td>\n",
       "      <td>1</td>\n",
       "      <td>25</td>\n",
       "      <td>GIRONDE SUR DROPT</td>\n",
       "      <td>50000</td>\n",
       "    </tr>\n",
       "    <tr>\n",
       "      <td>1802</td>\n",
       "      <td>appartement</td>\n",
       "      <td>1</td>\n",
       "      <td>25</td>\n",
       "      <td>GIRONDE SUR DROPT</td>\n",
       "      <td>50000</td>\n",
       "    </tr>\n",
       "  </tbody>\n",
       "</table>\n",
       "</div>"
      ],
      "text/plain": [
       "     type_de_bien  nb_de_pieces  surface              ville   prix\n",
       "766        maison             3       40             RAUZAN  28500\n",
       "126        maison             3       68             RAUZAN  38500\n",
       "1624       maison             2       41         VILLENEUVE  40000\n",
       "258        maison             3       87  ST YZANS DE MEDOC  40000\n",
       "230        maison             2       30              AUROS  45000\n",
       "669   appartement             2       36              BLAYE  48000\n",
       "52    appartement             2       50         CARTELEGUE  48000\n",
       "1583       maison             4       97  STE FOY LA GRANDE  49000\n",
       "1801  appartement             1       25  GIRONDE SUR DROPT  50000\n",
       "1802  appartement             1       25  GIRONDE SUR DROPT  50000"
      ]
     },
     "execution_count": 17,
     "metadata": {},
     "output_type": "execute_result"
    }
   ],
   "source": [
    "df.sort_values(\"prix\", axis = 0, ascending = True).head(10)"
   ]
  },
  {
   "cell_type": "code",
   "execution_count": 18,
   "metadata": {},
   "outputs": [],
   "source": [
    "# -- Outliers général -- 1155, 1337,1215,269,518,517 \n",
    "df = df.drop([df.index[1155] , df.index[1337], df.index[1215],\n",
    "              df.index[269],df.index[518] ,df.index[517]])"
   ]
  },
  {
   "cell_type": "code",
   "execution_count": 19,
   "metadata": {},
   "outputs": [
    {
     "data": {
      "text/plain": [
       "(3493, 5)"
      ]
     },
     "execution_count": 19,
     "metadata": {},
     "output_type": "execute_result"
    }
   ],
   "source": [
    "df.shape"
   ]
  },
  {
   "cell_type": "markdown",
   "metadata": {},
   "source": [
    "# Preprocessing, Split et création de Pipeline"
   ]
  },
  {
   "cell_type": "code",
   "execution_count": 20,
   "metadata": {},
   "outputs": [],
   "source": [
    "df['PriceLog'] = np.log(df.prix)"
   ]
  },
  {
   "cell_type": "code",
   "execution_count": 21,
   "metadata": {
    "scrolled": true
   },
   "outputs": [
    {
     "data": {
      "text/plain": [
       "prix            1.000000\n",
       "PriceLog        0.819907\n",
       "surface         0.598269\n",
       "nb_de_pieces    0.503994\n",
       "Name: prix, dtype: float64"
      ]
     },
     "execution_count": 21,
     "metadata": {},
     "output_type": "execute_result"
    }
   ],
   "source": [
    "corr = df.corr().abs()\n",
    "corr.prix[corr.prix >= 0].sort_values(ascending=False)"
   ]
  },
  {
   "cell_type": "code",
   "execution_count": 22,
   "metadata": {},
   "outputs": [
    {
     "data": {
      "text/plain": [
       "((3493, 4), (3493,))"
      ]
     },
     "execution_count": 22,
     "metadata": {},
     "output_type": "execute_result"
    }
   ],
   "source": [
    "y_full = df['PriceLog'].values\n",
    "\n",
    "x_full = df.drop(['prix','PriceLog'], axis=1)\n",
    "x_full.shape,y_full.shape"
   ]
  },
  {
   "cell_type": "code",
   "execution_count": 23,
   "metadata": {},
   "outputs": [],
   "source": [
    "categoricals = ['type_de_bien', 'ville']"
   ]
  },
  {
   "cell_type": "code",
   "execution_count": 24,
   "metadata": {},
   "outputs": [],
   "source": [
    "categorical_pipe = Pipeline([\n",
    "    ('oe', OneHotEncoder(handle_unknown=\"ignore\"))\n",
    "])"
   ]
  },
  {
   "cell_type": "code",
   "execution_count": 25,
   "metadata": {},
   "outputs": [],
   "source": [
    "poly = ['nb_de_pieces', 'surface']"
   ]
  },
  {
   "cell_type": "code",
   "execution_count": 26,
   "metadata": {},
   "outputs": [],
   "source": [
    "poly_pipe = Pipeline([\n",
    "    (\"poly\", PolynomialFeatures(2))\n",
    "])"
   ]
  },
  {
   "cell_type": "code",
   "execution_count": 27,
   "metadata": {},
   "outputs": [],
   "source": [
    "scale_pipe = Pipeline([\n",
    "    ('scaler', StandardScaler())\n",
    "])"
   ]
  },
  {
   "cell_type": "code",
   "execution_count": 28,
   "metadata": {},
   "outputs": [],
   "source": [
    "preprocess_pipe = ColumnTransformer([\n",
    "    (\"enc\", categorical_pipe, categoricals),\n",
    "    (\"sca\", scale_pipe, poly),\n",
    "    (\"pol\", poly_pipe , poly),\n",
    "])"
   ]
  },
  {
   "cell_type": "code",
   "execution_count": 29,
   "metadata": {},
   "outputs": [],
   "source": [
    "xgb = xgboost.XGBRegressor(colsample_bytree=0.5, subsample=0.7,\n",
    "                             learning_rate=0.05, max_depth=5, \n",
    "                             min_child_weight=1.8, n_estimators=1000,\n",
    "                             reg_alpha=0.1, reg_lambda=0.3, gamma=0.01, \n",
    "                             silent=1, random_state =7, nthread = -1)"
   ]
  },
  {
   "cell_type": "code",
   "execution_count": 30,
   "metadata": {},
   "outputs": [],
   "source": [
    "seed = 60\n",
    "np.random.seed(seed)"
   ]
  },
  {
   "cell_type": "code",
   "execution_count": 31,
   "metadata": {},
   "outputs": [
    {
     "data": {
      "text/plain": [
       "((3143, 4), (350, 4), (3143,), (350,))"
      ]
     },
     "execution_count": 31,
     "metadata": {},
     "output_type": "execute_result"
    }
   ],
   "source": [
    "x_train, x_val, y_train, y_val = train_test_split(x_full,y_full , test_size=0.1, random_state=seed)\n",
    "x_train.shape, x_val.shape, y_train.shape, y_val.shape"
   ]
  },
  {
   "cell_type": "code",
   "execution_count": 32,
   "metadata": {},
   "outputs": [],
   "source": [
    "model = Pipeline([\n",
    "    ('pre', preprocess_pipe),\n",
    "    ('reg', xgb)\n",
    "])"
   ]
  },
  {
   "cell_type": "markdown",
   "metadata": {},
   "source": [
    "# Entrainement du modèle"
   ]
  },
  {
   "cell_type": "code",
   "execution_count": 33,
   "metadata": {},
   "outputs": [
    {
     "data": {
      "text/plain": [
       "dict_keys(['memory', 'steps', 'verbose', 'pre', 'reg', 'pre__n_jobs', 'pre__remainder', 'pre__sparse_threshold', 'pre__transformer_weights', 'pre__transformers', 'pre__verbose', 'pre__enc', 'pre__sca', 'pre__pol', 'pre__enc__memory', 'pre__enc__steps', 'pre__enc__verbose', 'pre__enc__oe', 'pre__enc__oe__categories', 'pre__enc__oe__drop', 'pre__enc__oe__dtype', 'pre__enc__oe__handle_unknown', 'pre__enc__oe__sparse', 'pre__sca__memory', 'pre__sca__steps', 'pre__sca__verbose', 'pre__sca__scaler', 'pre__sca__scaler__copy', 'pre__sca__scaler__with_mean', 'pre__sca__scaler__with_std', 'pre__pol__memory', 'pre__pol__steps', 'pre__pol__verbose', 'pre__pol__poly', 'pre__pol__poly__degree', 'pre__pol__poly__include_bias', 'pre__pol__poly__interaction_only', 'pre__pol__poly__order', 'reg__base_score', 'reg__booster', 'reg__colsample_bylevel', 'reg__colsample_bynode', 'reg__colsample_bytree', 'reg__gamma', 'reg__importance_type', 'reg__learning_rate', 'reg__max_delta_step', 'reg__max_depth', 'reg__min_child_weight', 'reg__missing', 'reg__n_estimators', 'reg__n_jobs', 'reg__nthread', 'reg__objective', 'reg__random_state', 'reg__reg_alpha', 'reg__reg_lambda', 'reg__scale_pos_weight', 'reg__seed', 'reg__silent', 'reg__subsample', 'reg__verbosity'])"
      ]
     },
     "execution_count": 33,
     "metadata": {},
     "output_type": "execute_result"
    }
   ],
   "source": [
    "model.get_params().keys()"
   ]
  },
  {
   "cell_type": "code",
   "execution_count": 34,
   "metadata": {},
   "outputs": [],
   "source": [
    "if look_for_opti : \n",
    "    param_grid = [{\n",
    "        'reg__n_estimators': [800,900,1000,1200],'reg__max_depth': [4,5,6,7]\n",
    "    }]\n",
    "\n",
    "    my_learn = model\n",
    "    grid_search = GridSearchCV(my_learn,param_grid, cv=5, scoring ='neg_mean_squared_error', return_train_score=True)\n",
    "    grid_search.fit(x_train,y_train)\n",
    "\n",
    "if look_for_opti : \n",
    "    grid_search.best_params_"
   ]
  },
  {
   "cell_type": "code",
   "execution_count": 35,
   "metadata": {},
   "outputs": [],
   "source": [
    "model.fit(x_train,y_train);"
   ]
  },
  {
   "cell_type": "markdown",
   "metadata": {},
   "source": [
    "# Evaluation du modèle avec le fichier de validation"
   ]
  },
  {
   "cell_type": "code",
   "execution_count": 36,
   "metadata": {},
   "outputs": [],
   "source": [
    "y_valid_pred = model.predict(x_val)"
   ]
  },
  {
   "cell_type": "code",
   "execution_count": 37,
   "metadata": {},
   "outputs": [
    {
     "name": "stdout",
     "output_type": "stream",
     "text": [
      "RMSE :  143957.6701\n",
      "MAE :  90220.8373\n"
     ]
    },
    {
     "data": {
      "text/plain": [
       "<matplotlib.axes._subplots.AxesSubplot at 0x7ffb1acd25f8>"
      ]
     },
     "execution_count": 37,
     "metadata": {},
     "output_type": "execute_result"
    },
    {
     "data": {
      "image/png": "[encoded data removed]",
      "text/plain": [
       "<Figure size 432x288 with 1 Axes>"
      ]
     },
     "metadata": {},
     "output_type": "display_data"
    }
   ],
   "source": [
    "xgb_pred_ref = np.exp(y_valid_pred)\n",
    "\n",
    "y_val_rescale = y_val.reshape(y_val.shape[0])\n",
    "y_val_rescale = np.exp(y_val_rescale)\n",
    "\n",
    "RMSE = np.sqrt(MSE(xgb_pred_ref, y_val_rescale))\n",
    "print('RMSE : ', RMSE.round(4))\n",
    "\n",
    "score = MAE(xgb_pred_ref, y_val_rescale)\n",
    "print('MAE : ', round(score,4))\n",
    "\n",
    "sns.regplot(xgb_pred_ref, y_val_rescale, color=\"g\")"
   ]
  },
  {
   "cell_type": "code",
   "execution_count": 38,
   "metadata": {
    "scrolled": false
   },
   "outputs": [
    {
     "name": "stdout",
     "output_type": "stream",
     "text": [
      "nom colonne prediction : Prediction\n",
      "nom colonne output : val_price\n",
      "MAPE =  26.02\n",
      "On a 176 erreurs positive, 174 erreurs negative, 0 prediction parfaite\n"
     ]
    },
    {
     "data": {
      "text/html": [
       "<div>\n",
       "<style scoped>\n",
       "    .dataframe tbody tr th:only-of-type {\n",
       "        vertical-align: middle;\n",
       "    }\n",
       "\n",
       "    .dataframe tbody tr th {\n",
       "        vertical-align: top;\n",
       "    }\n",
       "\n",
       "    .dataframe thead th {\n",
       "        text-align: right;\n",
       "    }\n",
       "</style>\n",
       "<table border=\"1\" class=\"dataframe\">\n",
       "  <thead>\n",
       "    <tr style=\"text-align: right;\">\n",
       "      <th></th>\n",
       "      <th>val_price</th>\n",
       "      <th>Prediction</th>\n",
       "      <th>pourcerror</th>\n",
       "      <th>errorabs</th>\n",
       "      <th>mape</th>\n",
       "      <th>RMSE</th>\n",
       "      <th>positive erreur</th>\n",
       "      <th>negatif erreur</th>\n",
       "      <th>prediction parfaite</th>\n",
       "    </tr>\n",
       "  </thead>\n",
       "  <tbody>\n",
       "    <tr>\n",
       "      <td>0</td>\n",
       "      <td>313000.0</td>\n",
       "      <td>292478.187500</td>\n",
       "      <td>-0.065565</td>\n",
       "      <td>0.07</td>\n",
       "      <td>26.02</td>\n",
       "      <td>143957.67013</td>\n",
       "      <td>176.0</td>\n",
       "      <td>174.0</td>\n",
       "      <td>0.0</td>\n",
       "    </tr>\n",
       "    <tr>\n",
       "      <td>1</td>\n",
       "      <td>254000.0</td>\n",
       "      <td>238219.109375</td>\n",
       "      <td>-0.062129</td>\n",
       "      <td>0.06</td>\n",
       "      <td>NaN</td>\n",
       "      <td>NaN</td>\n",
       "      <td>NaN</td>\n",
       "      <td>NaN</td>\n",
       "      <td>NaN</td>\n",
       "    </tr>\n",
       "    <tr>\n",
       "      <td>2</td>\n",
       "      <td>242000.0</td>\n",
       "      <td>489031.687500</td>\n",
       "      <td>1.020792</td>\n",
       "      <td>1.02</td>\n",
       "      <td>NaN</td>\n",
       "      <td>NaN</td>\n",
       "      <td>NaN</td>\n",
       "      <td>NaN</td>\n",
       "      <td>NaN</td>\n",
       "    </tr>\n",
       "    <tr>\n",
       "      <td>3</td>\n",
       "      <td>840000.0</td>\n",
       "      <td>510569.000000</td>\n",
       "      <td>-0.392180</td>\n",
       "      <td>0.39</td>\n",
       "      <td>NaN</td>\n",
       "      <td>NaN</td>\n",
       "      <td>NaN</td>\n",
       "      <td>NaN</td>\n",
       "      <td>NaN</td>\n",
       "    </tr>\n",
       "    <tr>\n",
       "      <td>4</td>\n",
       "      <td>318000.0</td>\n",
       "      <td>287119.750000</td>\n",
       "      <td>-0.097108</td>\n",
       "      <td>0.10</td>\n",
       "      <td>NaN</td>\n",
       "      <td>NaN</td>\n",
       "      <td>NaN</td>\n",
       "      <td>NaN</td>\n",
       "      <td>NaN</td>\n",
       "    </tr>\n",
       "    <tr>\n",
       "      <td>...</td>\n",
       "      <td>...</td>\n",
       "      <td>...</td>\n",
       "      <td>...</td>\n",
       "      <td>...</td>\n",
       "      <td>...</td>\n",
       "      <td>...</td>\n",
       "      <td>...</td>\n",
       "      <td>...</td>\n",
       "      <td>...</td>\n",
       "    </tr>\n",
       "    <tr>\n",
       "      <td>345</td>\n",
       "      <td>335000.0</td>\n",
       "      <td>294798.843750</td>\n",
       "      <td>-0.120003</td>\n",
       "      <td>0.12</td>\n",
       "      <td>NaN</td>\n",
       "      <td>NaN</td>\n",
       "      <td>NaN</td>\n",
       "      <td>NaN</td>\n",
       "      <td>NaN</td>\n",
       "    </tr>\n",
       "    <tr>\n",
       "      <td>346</td>\n",
       "      <td>75000.0</td>\n",
       "      <td>87641.601562</td>\n",
       "      <td>0.168555</td>\n",
       "      <td>0.17</td>\n",
       "      <td>NaN</td>\n",
       "      <td>NaN</td>\n",
       "      <td>NaN</td>\n",
       "      <td>NaN</td>\n",
       "      <td>NaN</td>\n",
       "    </tr>\n",
       "    <tr>\n",
       "      <td>347</td>\n",
       "      <td>389200.0</td>\n",
       "      <td>402215.812500</td>\n",
       "      <td>0.033442</td>\n",
       "      <td>0.03</td>\n",
       "      <td>NaN</td>\n",
       "      <td>NaN</td>\n",
       "      <td>NaN</td>\n",
       "      <td>NaN</td>\n",
       "      <td>NaN</td>\n",
       "    </tr>\n",
       "    <tr>\n",
       "      <td>348</td>\n",
       "      <td>213000.0</td>\n",
       "      <td>224030.843750</td>\n",
       "      <td>0.051788</td>\n",
       "      <td>0.05</td>\n",
       "      <td>NaN</td>\n",
       "      <td>NaN</td>\n",
       "      <td>NaN</td>\n",
       "      <td>NaN</td>\n",
       "      <td>NaN</td>\n",
       "    </tr>\n",
       "    <tr>\n",
       "      <td>349</td>\n",
       "      <td>436800.0</td>\n",
       "      <td>653110.437500</td>\n",
       "      <td>0.495216</td>\n",
       "      <td>0.50</td>\n",
       "      <td>NaN</td>\n",
       "      <td>NaN</td>\n",
       "      <td>NaN</td>\n",
       "      <td>NaN</td>\n",
       "      <td>NaN</td>\n",
       "    </tr>\n",
       "  </tbody>\n",
       "</table>\n",
       "<p>350 rows × 9 columns</p>\n",
       "</div>"
      ],
      "text/plain": [
       "     val_price     Prediction  pourcerror  errorabs   mape          RMSE  \\\n",
       "0     313000.0  292478.187500   -0.065565      0.07  26.02  143957.67013   \n",
       "1     254000.0  238219.109375   -0.062129      0.06    NaN           NaN   \n",
       "2     242000.0  489031.687500    1.020792      1.02    NaN           NaN   \n",
       "3     840000.0  510569.000000   -0.392180      0.39    NaN           NaN   \n",
       "4     318000.0  287119.750000   -0.097108      0.10    NaN           NaN   \n",
       "..         ...            ...         ...       ...    ...           ...   \n",
       "345   335000.0  294798.843750   -0.120003      0.12    NaN           NaN   \n",
       "346    75000.0   87641.601562    0.168555      0.17    NaN           NaN   \n",
       "347   389200.0  402215.812500    0.033442      0.03    NaN           NaN   \n",
       "348   213000.0  224030.843750    0.051788      0.05    NaN           NaN   \n",
       "349   436800.0  653110.437500    0.495216      0.50    NaN           NaN   \n",
       "\n",
       "     positive erreur  negatif erreur  prediction parfaite  \n",
       "0              176.0           174.0                  0.0  \n",
       "1                NaN             NaN                  NaN  \n",
       "2                NaN             NaN                  NaN  \n",
       "3                NaN             NaN                  NaN  \n",
       "4                NaN             NaN                  NaN  \n",
       "..               ...             ...                  ...  \n",
       "345              NaN             NaN                  NaN  \n",
       "346              NaN             NaN                  NaN  \n",
       "347              NaN             NaN                  NaN  \n",
       "348              NaN             NaN                  NaN  \n",
       "349              NaN             NaN                  NaN  \n",
       "\n",
       "[350 rows x 9 columns]"
      ]
     },
     "execution_count": 38,
     "metadata": {},
     "output_type": "execute_result"
    }
   ],
   "source": [
    "visu = pd.DataFrame()\n",
    "visu[\"val_price\"] = y_val_rescale\n",
    "visu[\"Prediction\"] = xgb_pred_ref\n",
    "\n",
    "ALYR.regr(visu)\n",
    "ALYR.posneg(visu)\n",
    "\n",
    "######### saisir Prediction puis val_price ###############"
   ]
  },
  {
   "cell_type": "code",
   "execution_count": 39,
   "metadata": {},
   "outputs": [
    {
     "data": {
      "text/html": [
       "<div>\n",
       "<style scoped>\n",
       "    .dataframe tbody tr th:only-of-type {\n",
       "        vertical-align: middle;\n",
       "    }\n",
       "\n",
       "    .dataframe tbody tr th {\n",
       "        vertical-align: top;\n",
       "    }\n",
       "\n",
       "    .dataframe thead th {\n",
       "        text-align: right;\n",
       "    }\n",
       "</style>\n",
       "<table border=\"1\" class=\"dataframe\">\n",
       "  <thead>\n",
       "    <tr style=\"text-align: right;\">\n",
       "      <th></th>\n",
       "      <th>val_price</th>\n",
       "      <th>Prediction</th>\n",
       "      <th>pourcerror</th>\n",
       "      <th>errorabs</th>\n",
       "      <th>mape</th>\n",
       "      <th>RMSE</th>\n",
       "      <th>positive erreur</th>\n",
       "      <th>negatif erreur</th>\n",
       "      <th>prediction parfaite</th>\n",
       "    </tr>\n",
       "  </thead>\n",
       "  <tbody>\n",
       "    <tr>\n",
       "      <td>76</td>\n",
       "      <td>99000.0</td>\n",
       "      <td>605878.687500</td>\n",
       "      <td>5.119987</td>\n",
       "      <td>5.12</td>\n",
       "      <td>NaN</td>\n",
       "      <td>NaN</td>\n",
       "      <td>NaN</td>\n",
       "      <td>NaN</td>\n",
       "      <td>NaN</td>\n",
       "    </tr>\n",
       "    <tr>\n",
       "      <td>164</td>\n",
       "      <td>76000.0</td>\n",
       "      <td>277630.468750</td>\n",
       "      <td>2.653032</td>\n",
       "      <td>2.65</td>\n",
       "      <td>NaN</td>\n",
       "      <td>NaN</td>\n",
       "      <td>NaN</td>\n",
       "      <td>NaN</td>\n",
       "      <td>NaN</td>\n",
       "    </tr>\n",
       "    <tr>\n",
       "      <td>139</td>\n",
       "      <td>110000.0</td>\n",
       "      <td>297468.781250</td>\n",
       "      <td>1.704262</td>\n",
       "      <td>1.70</td>\n",
       "      <td>NaN</td>\n",
       "      <td>NaN</td>\n",
       "      <td>NaN</td>\n",
       "      <td>NaN</td>\n",
       "      <td>NaN</td>\n",
       "    </tr>\n",
       "    <tr>\n",
       "      <td>172</td>\n",
       "      <td>86500.0</td>\n",
       "      <td>226121.531250</td>\n",
       "      <td>1.614122</td>\n",
       "      <td>1.61</td>\n",
       "      <td>NaN</td>\n",
       "      <td>NaN</td>\n",
       "      <td>NaN</td>\n",
       "      <td>NaN</td>\n",
       "      <td>NaN</td>\n",
       "    </tr>\n",
       "    <tr>\n",
       "      <td>144</td>\n",
       "      <td>60000.0</td>\n",
       "      <td>144529.375000</td>\n",
       "      <td>1.408823</td>\n",
       "      <td>1.41</td>\n",
       "      <td>NaN</td>\n",
       "      <td>NaN</td>\n",
       "      <td>NaN</td>\n",
       "      <td>NaN</td>\n",
       "      <td>NaN</td>\n",
       "    </tr>\n",
       "    <tr>\n",
       "      <td>22</td>\n",
       "      <td>123000.0</td>\n",
       "      <td>265314.031250</td>\n",
       "      <td>1.157025</td>\n",
       "      <td>1.16</td>\n",
       "      <td>NaN</td>\n",
       "      <td>NaN</td>\n",
       "      <td>NaN</td>\n",
       "      <td>NaN</td>\n",
       "      <td>NaN</td>\n",
       "    </tr>\n",
       "    <tr>\n",
       "      <td>176</td>\n",
       "      <td>90000.0</td>\n",
       "      <td>192659.781250</td>\n",
       "      <td>1.140664</td>\n",
       "      <td>1.14</td>\n",
       "      <td>NaN</td>\n",
       "      <td>NaN</td>\n",
       "      <td>NaN</td>\n",
       "      <td>NaN</td>\n",
       "      <td>NaN</td>\n",
       "    </tr>\n",
       "    <tr>\n",
       "      <td>184</td>\n",
       "      <td>60000.0</td>\n",
       "      <td>128215.765625</td>\n",
       "      <td>1.136929</td>\n",
       "      <td>1.14</td>\n",
       "      <td>NaN</td>\n",
       "      <td>NaN</td>\n",
       "      <td>NaN</td>\n",
       "      <td>NaN</td>\n",
       "      <td>NaN</td>\n",
       "    </tr>\n",
       "    <tr>\n",
       "      <td>187</td>\n",
       "      <td>108300.0</td>\n",
       "      <td>231386.734375</td>\n",
       "      <td>1.136535</td>\n",
       "      <td>1.14</td>\n",
       "      <td>NaN</td>\n",
       "      <td>NaN</td>\n",
       "      <td>NaN</td>\n",
       "      <td>NaN</td>\n",
       "      <td>NaN</td>\n",
       "    </tr>\n",
       "    <tr>\n",
       "      <td>48</td>\n",
       "      <td>38500.0</td>\n",
       "      <td>81126.835938</td>\n",
       "      <td>1.107191</td>\n",
       "      <td>1.11</td>\n",
       "      <td>NaN</td>\n",
       "      <td>NaN</td>\n",
       "      <td>NaN</td>\n",
       "      <td>NaN</td>\n",
       "      <td>NaN</td>\n",
       "    </tr>\n",
       "    <tr>\n",
       "      <td>2</td>\n",
       "      <td>242000.0</td>\n",
       "      <td>489031.687500</td>\n",
       "      <td>1.020792</td>\n",
       "      <td>1.02</td>\n",
       "      <td>NaN</td>\n",
       "      <td>NaN</td>\n",
       "      <td>NaN</td>\n",
       "      <td>NaN</td>\n",
       "      <td>NaN</td>\n",
       "    </tr>\n",
       "    <tr>\n",
       "      <td>275</td>\n",
       "      <td>185000.0</td>\n",
       "      <td>372109.093750</td>\n",
       "      <td>1.011401</td>\n",
       "      <td>1.01</td>\n",
       "      <td>NaN</td>\n",
       "      <td>NaN</td>\n",
       "      <td>NaN</td>\n",
       "      <td>NaN</td>\n",
       "      <td>NaN</td>\n",
       "    </tr>\n",
       "    <tr>\n",
       "      <td>332</td>\n",
       "      <td>225000.0</td>\n",
       "      <td>441723.250000</td>\n",
       "      <td>0.963214</td>\n",
       "      <td>0.96</td>\n",
       "      <td>NaN</td>\n",
       "      <td>NaN</td>\n",
       "      <td>NaN</td>\n",
       "      <td>NaN</td>\n",
       "      <td>NaN</td>\n",
       "    </tr>\n",
       "    <tr>\n",
       "      <td>14</td>\n",
       "      <td>137000.0</td>\n",
       "      <td>263761.968750</td>\n",
       "      <td>0.925270</td>\n",
       "      <td>0.93</td>\n",
       "      <td>NaN</td>\n",
       "      <td>NaN</td>\n",
       "      <td>NaN</td>\n",
       "      <td>NaN</td>\n",
       "      <td>NaN</td>\n",
       "    </tr>\n",
       "    <tr>\n",
       "      <td>133</td>\n",
       "      <td>108000.0</td>\n",
       "      <td>207649.828125</td>\n",
       "      <td>0.922684</td>\n",
       "      <td>0.92</td>\n",
       "      <td>NaN</td>\n",
       "      <td>NaN</td>\n",
       "      <td>NaN</td>\n",
       "      <td>NaN</td>\n",
       "      <td>NaN</td>\n",
       "    </tr>\n",
       "    <tr>\n",
       "      <td>273</td>\n",
       "      <td>108000.0</td>\n",
       "      <td>200898.875000</td>\n",
       "      <td>0.860175</td>\n",
       "      <td>0.86</td>\n",
       "      <td>NaN</td>\n",
       "      <td>NaN</td>\n",
       "      <td>NaN</td>\n",
       "      <td>NaN</td>\n",
       "      <td>NaN</td>\n",
       "    </tr>\n",
       "    <tr>\n",
       "      <td>117</td>\n",
       "      <td>305000.0</td>\n",
       "      <td>565802.500000</td>\n",
       "      <td>0.855090</td>\n",
       "      <td>0.86</td>\n",
       "      <td>NaN</td>\n",
       "      <td>NaN</td>\n",
       "      <td>NaN</td>\n",
       "      <td>NaN</td>\n",
       "      <td>NaN</td>\n",
       "    </tr>\n",
       "    <tr>\n",
       "      <td>225</td>\n",
       "      <td>135000.0</td>\n",
       "      <td>250155.312500</td>\n",
       "      <td>0.853002</td>\n",
       "      <td>0.85</td>\n",
       "      <td>NaN</td>\n",
       "      <td>NaN</td>\n",
       "      <td>NaN</td>\n",
       "      <td>NaN</td>\n",
       "      <td>NaN</td>\n",
       "    </tr>\n",
       "    <tr>\n",
       "      <td>336</td>\n",
       "      <td>194400.0</td>\n",
       "      <td>351999.218750</td>\n",
       "      <td>0.810696</td>\n",
       "      <td>0.81</td>\n",
       "      <td>NaN</td>\n",
       "      <td>NaN</td>\n",
       "      <td>NaN</td>\n",
       "      <td>NaN</td>\n",
       "      <td>NaN</td>\n",
       "    </tr>\n",
       "    <tr>\n",
       "      <td>250</td>\n",
       "      <td>348000.0</td>\n",
       "      <td>629466.375000</td>\n",
       "      <td>0.808811</td>\n",
       "      <td>0.81</td>\n",
       "      <td>NaN</td>\n",
       "      <td>NaN</td>\n",
       "      <td>NaN</td>\n",
       "      <td>NaN</td>\n",
       "      <td>NaN</td>\n",
       "    </tr>\n",
       "  </tbody>\n",
       "</table>\n",
       "</div>"
      ],
      "text/plain": [
       "     val_price     Prediction  pourcerror  errorabs  mape  RMSE  \\\n",
       "76     99000.0  605878.687500    5.119987      5.12   NaN   NaN   \n",
       "164    76000.0  277630.468750    2.653032      2.65   NaN   NaN   \n",
       "139   110000.0  297468.781250    1.704262      1.70   NaN   NaN   \n",
       "172    86500.0  226121.531250    1.614122      1.61   NaN   NaN   \n",
       "144    60000.0  144529.375000    1.408823      1.41   NaN   NaN   \n",
       "22    123000.0  265314.031250    1.157025      1.16   NaN   NaN   \n",
       "176    90000.0  192659.781250    1.140664      1.14   NaN   NaN   \n",
       "184    60000.0  128215.765625    1.136929      1.14   NaN   NaN   \n",
       "187   108300.0  231386.734375    1.136535      1.14   NaN   NaN   \n",
       "48     38500.0   81126.835938    1.107191      1.11   NaN   NaN   \n",
       "2     242000.0  489031.687500    1.020792      1.02   NaN   NaN   \n",
       "275   185000.0  372109.093750    1.011401      1.01   NaN   NaN   \n",
       "332   225000.0  441723.250000    0.963214      0.96   NaN   NaN   \n",
       "14    137000.0  263761.968750    0.925270      0.93   NaN   NaN   \n",
       "133   108000.0  207649.828125    0.922684      0.92   NaN   NaN   \n",
       "273   108000.0  200898.875000    0.860175      0.86   NaN   NaN   \n",
       "117   305000.0  565802.500000    0.855090      0.86   NaN   NaN   \n",
       "225   135000.0  250155.312500    0.853002      0.85   NaN   NaN   \n",
       "336   194400.0  351999.218750    0.810696      0.81   NaN   NaN   \n",
       "250   348000.0  629466.375000    0.808811      0.81   NaN   NaN   \n",
       "\n",
       "     positive erreur  negatif erreur  prediction parfaite  \n",
       "76               NaN             NaN                  NaN  \n",
       "164              NaN             NaN                  NaN  \n",
       "139              NaN             NaN                  NaN  \n",
       "172              NaN             NaN                  NaN  \n",
       "144              NaN             NaN                  NaN  \n",
       "22               NaN             NaN                  NaN  \n",
       "176              NaN             NaN                  NaN  \n",
       "184              NaN             NaN                  NaN  \n",
       "187              NaN             NaN                  NaN  \n",
       "48               NaN             NaN                  NaN  \n",
       "2                NaN             NaN                  NaN  \n",
       "275              NaN             NaN                  NaN  \n",
       "332              NaN             NaN                  NaN  \n",
       "14               NaN             NaN                  NaN  \n",
       "133              NaN             NaN                  NaN  \n",
       "273              NaN             NaN                  NaN  \n",
       "117              NaN             NaN                  NaN  \n",
       "225              NaN             NaN                  NaN  \n",
       "336              NaN             NaN                  NaN  \n",
       "250              NaN             NaN                  NaN  "
      ]
     },
     "execution_count": 39,
     "metadata": {},
     "output_type": "execute_result"
    }
   ],
   "source": [
    "visu.sort_values(\"errorabs\", axis = 0, ascending = False).head(20)"
   ]
  },
  {
   "cell_type": "code",
   "execution_count": 40,
   "metadata": {},
   "outputs": [
    {
     "name": "stdout",
     "output_type": "stream",
     "text": [
      "valeur du seuil :0.2\n",
      "il y'a 212 erreurs inférieurs à 0.2, il y'a 138 erreurs supérieurs à 0.2\n",
      "erreur sous seuil = 60.5714%\n"
     ]
    },
    {
     "data": {
      "text/plain": [
       "60.5714"
      ]
     },
     "execution_count": 40,
     "metadata": {},
     "output_type": "execute_result"
    }
   ],
   "source": [
    "ALYR.seuil_vs_error(visu)\n",
    "\n",
    "######## Choisir un seuil en float entre 0.0 et 1 ######################"
   ]
  },
  {
   "cell_type": "code",
   "execution_count": 41,
   "metadata": {},
   "outputs": [
    {
     "name": "stdout",
     "output_type": "stream",
     "text": [
      "valeur du seuil :0.1\n",
      "il y'a 113 erreurs inférieurs à 0.1, il y'a 237 erreurs supérieurs à 0.1\n",
      "erreur sous seuil = 32.2857%\n"
     ]
    },
    {
     "data": {
      "text/plain": [
       "32.2857"
      ]
     },
     "execution_count": 41,
     "metadata": {},
     "output_type": "execute_result"
    }
   ],
   "source": [
    "ALYR.seuil_vs_error(visu)\n",
    "\n",
    "######## Choisir un seuil en float entre 0.0 et 1 ######################"
   ]
  },
  {
   "cell_type": "code",
   "execution_count": 42,
   "metadata": {},
   "outputs": [],
   "source": [
    "######## Dump du modèle, pensez a changer le numéro de version ######################\n",
    "\n",
    "# dump(model, 'model_xgb_v2.joblib')"
   ]
  },
  {
   "cell_type": "markdown",
   "metadata": {},
   "source": [
    "# Simulation en Production"
   ]
  },
  {
   "cell_type": "code",
   "execution_count": 43,
   "metadata": {},
   "outputs": [],
   "source": [
    "def singlePrediction():\n",
    "    k1 = str(input(\"Type de bien : maison ou appartement : \"))\n",
    "    k1 = k1.lower()\n",
    "    k2 = int(input(\"Nombre de pièces dans le logement : \"))\n",
    "    \n",
    "    k3 = int(input(\"Combien de métres carrés : \"))\n",
    "    k4 = str(input(\"Dans quelle ville : \"))\n",
    "    k4= k4.upper()\n",
    "    \n",
    "    x = pd.DataFrame()\n",
    "    x.loc[0,\"type_de_bien\"] = f\"{k1}\"\n",
    "    x.loc[0,\"nb_de_pieces\"] = f\"{k2}\"\n",
    "    x.loc[0,\"surface\"] = f\"{k3}\"\n",
    "    x.loc[0,\"ville\"] = f\"{k4}\"\n",
    "    print(\"-------------\")\n",
    "    sing_pred = model.predict(x)\n",
    "    sing_pred = np.exp(sing_pred)\n",
    "    print(\"-------------\")\n",
    "    print(\"Prix estimé \",int(sing_pred), \"€\")\n",
    "    "
   ]
  },
  {
   "cell_type": "code",
   "execution_count": 44,
   "metadata": {},
   "outputs": [
    {
     "name": "stdout",
     "output_type": "stream",
     "text": [
      "Type de bien : maison ou appartement : appartement\n",
      "Nombre de pièces dans le logement : 2\n",
      "Combien de métres carrés : 35\n",
      "Dans quelle ville : Bordeaux\n",
      "-------------\n",
      "-------------\n",
      "Prix estimé  167013 €\n"
     ]
    }
   ],
   "source": [
    "singlePrediction()"
   ]
  },
  {
   "cell_type": "code",
   "execution_count": 45,
   "metadata": {},
   "outputs": [
    {
     "name": "stdout",
     "output_type": "stream",
     "text": [
      "Type de bien : maison ou appartement : maison\n",
      "Nombre de pièces dans le logement : 5\n",
      "Combien de métres carrés : 100\n",
      "Dans quelle ville : port ste foy et ponchapt\n",
      "-------------\n",
      "-------------\n",
      "Prix estimé  259196 €\n"
     ]
    }
   ],
   "source": [
    "singlePrediction()"
   ]
  },
  {
   "cell_type": "markdown",
   "metadata": {},
   "source": [
    "# Verification de la gestion des erreurs d'input utilisateur"
   ]
  },
  {
   "cell_type": "raw",
   "metadata": {},
   "source": [
    "Test : le modèle fonctionne malgré les erreurs sur les q1 et q4"
   ]
  },
  {
   "cell_type": "code",
   "execution_count": 46,
   "metadata": {},
   "outputs": [
    {
     "name": "stdout",
     "output_type": "stream",
     "text": [
      "Type de bien : maison ou appartement : je ne sais pas\n",
      "Nombre de pièces dans le logement : 14\n",
      "Combien de métres carrés : 1000\n",
      "Dans quelle ville : peut importe\n",
      "-------------\n",
      "-------------\n",
      "Prix estimé  1660016 €\n"
     ]
    }
   ],
   "source": [
    "singlePrediction()"
   ]
  },
  {
   "cell_type": "markdown",
   "metadata": {},
   "source": [
    "# Evolution du Score du modèle en production"
   ]
  },
  {
   "cell_type": "markdown",
   "metadata": {},
   "source": [
    "# --V1--"
   ]
  },
  {
   "cell_type": "raw",
   "metadata": {},
   "source": [
    "RMSE :  186974.3624\n",
    "MAE :  103153.9151\n",
    "\n",
    "166 erreurs positive, 185 erreurs negative\n",
    "\n",
    "valeur du seuil :0.2\n",
    "il y'a 198 erreurs inférieurs à 0.2, il y'a 153 erreurs supérieurs à 0.2\n",
    "erreur sous seuil = 56.4103%\n",
    "\n",
    "valeur du seuil :0.1\n",
    "il y'a 115 erreurs inférieurs à 0.1, il y'a 236 erreurs supérieurs à 0.1\n",
    "erreur sous seuil = 32.7635%"
   ]
  },
  {
   "cell_type": "markdown",
   "metadata": {},
   "source": [
    "# --V2--"
   ]
  },
  {
   "cell_type": "raw",
   "metadata": {},
   "source": [
    "RMSE :  143957.6701\n",
    "MAE :  90220.8373\n",
    "\n",
    "176 erreurs positive, 174 erreurs negative, 0 prediction parfaite\n",
    "\n",
    "valeur du seuil :0.2\n",
    "il y'a 212 erreurs inférieurs à 0.2, il y'a 138 erreurs supérieurs à 0.2\n",
    "erreur sous seuil = 60.5714%\n",
    "\n",
    "valeur du seuil :0.1\n",
    "il y'a 113 erreurs inférieurs à 0.1, il y'a 237 erreurs supérieurs à 0.1\n",
    "erreur sous seuil = 32.2857%"
   ]
  }
 ],
 "metadata": {
  "kernelspec": {
   "display_name": "Python 3",
   "language": "python",
   "name": "python3"
  },
  "language_info": {
   "codemirror_mode": {
    "name": "ipython",
    "version": 3
   },
   "file_extension": ".py",
   "mimetype": "text/x-python",
   "name": "python",
   "nbconvert_exporter": "python",
   "pygments_lexer": "ipython3",
   "version": "3.7.3"
  }
 },
 "nbformat": 4,
 "nbformat_minor": 2
}
